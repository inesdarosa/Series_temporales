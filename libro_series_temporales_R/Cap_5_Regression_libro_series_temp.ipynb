{
 "cells": [
  {
   "cell_type": "markdown",
   "id": "d68a2b64-93fe-4922-a351-c16f69ef5069",
   "metadata": {},
   "source": [
    "# REGRESSION"
   ]
  },
  {
   "cell_type": "raw",
   "id": "fd40a6d8-f90e-40e0-85b8-c8206c0ef472",
   "metadata": {},
   "source": [
    "Trends in time series can be classified as stochastic or deterministic. \n",
    "We may consider a trend to be stochastic when it shows inexplicable changes in direction, and we attribute apparent transient trends to high serial correlation with random error. Trends of this type, which are common in financial series, can be simulated in R using models such as the random walk or autoregressive process (Chapter 4).\n",
    "\n",
    "In contrast, when we have some plausible physical explanation for a trend we will usually wish to model it in some deterministic manner.\n",
    "For example, a deterministic increasing trend in the data may be related to an increasing population, or a regular cycle may be related to a\n",
    "known seasonal frequency.\n",
    "\n",
    "Deterministic trends and seasonal variation can be modelled using regression."
   ]
  },
  {
   "cell_type": "raw",
   "id": "030d0835-1fa1-433e-b626-132523ea344f",
   "metadata": {},
   "source": [
    "Simulations\n",
    "\n",
    "The model for the code can be expressed as xt = 50 + 3t + zt, \n",
    "where {zt} is the AR(1) process zt = 0.8zt−1 + wt and {wt} is Gaussian white noise with σ = 20.\n"
   ]
  },
  {
   "cell_type": "code",
   "execution_count": 1,
   "id": "732757a3-c974-4c48-9cb8-5867eb0da9de",
   "metadata": {},
   "outputs": [
    {
     "data": {
      "image/png": "[encoded data removed]",
      "text/plain": [
       "plot without title"
      ]
     },
     "metadata": {
      "image/png": {
       "height": 420,
       "width": 420
      }
     },
     "output_type": "display_data"
    }
   ],
   "source": [
    "set.seed(1)\n",
    "z <- w <- rnorm(100, sd=20)\n",
    "for (t in 2:100) z[t] <- 0.8*z[t-1] + w[t]\n",
    "Time <- 1:100\n",
    "x <- 50 + 3*Time + z\n",
    "\n",
    "plot(x, xlab = 'time', type = 'l')\n"
   ]
  },
  {
   "cell_type": "code",
   "execution_count": 2,
   "id": "571db8e9-119c-441d-8748-4c16809a4dc5",
   "metadata": {},
   "outputs": [
    {
     "data": {
      "text/html": [
       "<style>\n",
       ".dl-inline {width: auto; margin:0; padding: 0}\n",
       ".dl-inline>dt, .dl-inline>dd {float: none; width: auto; display: inline-block}\n",
       ".dl-inline>dt::after {content: \":\\0020\"; padding-right: .5ex}\n",
       ".dl-inline>dt:not(:first-of-type) {padding-left: .5ex}\n",
       "</style><dl class=dl-inline><dt>(Intercept)</dt><dd>58.5512182020661</dd><dt>Time</dt><dd>3.06327468139086</dd></dl>\n"
      ],
      "text/latex": [
       "\\begin{description*}\n",
       "\\item[(Intercept)] 58.5512182020661\n",
       "\\item[Time] 3.06327468139086\n",
       "\\end{description*}\n"
      ],
      "text/markdown": [
       "(Intercept)\n",
       ":   58.5512182020661Time\n",
       ":   3.06327468139086\n",
       "\n"
      ],
      "text/plain": [
       "(Intercept)        Time \n",
       "  58.551218    3.063275 "
      ]
     },
     "metadata": {},
     "output_type": "display_data"
    }
   ],
   "source": [
    "# Linear models are usually fitted by minimising the sum of squared errors\n",
    "\n",
    "x.lm <- lm(x~Time)\n",
    "coef(x.lm)"
   ]
  },
  {
   "cell_type": "raw",
   "id": "72dd9cbe-cb05-44e8-825d-caf671d60b98",
   "metadata": {},
   "source": [
    "El resultado del intercepto es cercano a 50 y la pendiente a 3, más o menos (en el libro los valores son más cercanos a los propuestos),\n",
    "como debería de ser ya que el modelo fue propuesto con esos parámetros.\n"
   ]
  },
  {
   "cell_type": "raw",
   "id": "0366402a-41b0-4f30-b017-d989b471a836",
   "metadata": {},
   "source": [
    "The standard errors are  extracted using the square root of the diagonal elements obtained from vcov (value under Time), \n",
    "although these standard errors are likely to be underestimated because of autocorrelation in the residuals.\n",
    "Esto quiere decir que como es una serie temporal los residuos están muy probablemente correlacionados entonces la medida de error está subestimada."
   ]
  },
  {
   "cell_type": "code",
   "execution_count": 3,
   "id": "39087c46-97e1-428a-ada8-b326b1bea5d1",
   "metadata": {},
   "outputs": [
    {
     "data": {
      "text/html": [
       "<style>\n",
       ".dl-inline {width: auto; margin:0; padding: 0}\n",
       ".dl-inline>dt, .dl-inline>dd {float: none; width: auto; display: inline-block}\n",
       ".dl-inline>dt::after {content: \":\\0020\"; padding-right: .5ex}\n",
       ".dl-inline>dt:not(:first-of-type) {padding-left: .5ex}\n",
       "</style><dl class=dl-inline><dt>(Intercept)</dt><dd>4.88006277634045</dd><dt>Time</dt><dd>0.0838962054112513</dd></dl>\n"
      ],
      "text/latex": [
       "\\begin{description*}\n",
       "\\item[(Intercept)] 4.88006277634045\n",
       "\\item[Time] 0.0838962054112513\n",
       "\\end{description*}\n"
      ],
      "text/markdown": [
       "(Intercept)\n",
       ":   4.88006277634045Time\n",
       ":   0.0838962054112513\n",
       "\n"
      ],
      "text/plain": [
       "(Intercept)        Time \n",
       " 4.88006278  0.08389621 "
      ]
     },
     "metadata": {},
     "output_type": "display_data"
    },
    {
     "data": {
      "text/plain": [
       "\n",
       "Call:\n",
       "lm(formula = x ~ Time)\n",
       "\n",
       "Residuals:\n",
       "   Min     1Q Median     3Q    Max \n",
       "-42.30 -16.44  -0.54  13.66  57.00 \n",
       "\n",
       "Coefficients:\n",
       "            Estimate Std. Error t value Pr(>|t|)    \n",
       "(Intercept)  58.5512     4.8801   12.00   <2e-16 ***\n",
       "Time          3.0633     0.0839   36.51   <2e-16 ***\n",
       "---\n",
       "Signif. codes:  0 '***' 0.001 '**' 0.01 '*' 0.05 '.' 0.1 ' ' 1\n",
       "\n",
       "Residual standard error: 24.22 on 98 degrees of freedom\n",
       "Multiple R-squared:  0.9315,\tAdjusted R-squared:  0.9308 \n",
       "F-statistic:  1333 on 1 and 98 DF,  p-value: < 2.2e-16\n"
      ]
     },
     "metadata": {},
     "output_type": "display_data"
    }
   ],
   "source": [
    "sqrt(diag(vcov(x.lm)))\n",
    "\n",
    "summary(x.lm)#  t-tests showed may be incorrect for a time series regression analysis due to autocorrelation in the residuals.\n"
   ]
  },
  {
   "cell_type": "raw",
   "id": "0d86cc65-1b83-4388-961d-7455a70b414d",
   "metadata": {},
   "source": [
    "In the case of time series regression, an important diagnostic plot is the correlogram of the residuals:\n"
   ]
  },
  {
   "cell_type": "code",
   "execution_count": 4,
   "id": "9112933d-7f1c-42ba-9481-23670118094e",
   "metadata": {},
   "outputs": [
    {
     "data": {
      "image/png": "[encoded data removed]",
      "text/plain": [
       "Plot with title \"Series  resid(x.lm)\""
      ]
     },
     "metadata": {
      "image/png": {
       "height": 420,
       "width": 420
      }
     },
     "output_type": "display_data"
    },
    {
     "data": {
      "image/png": "[encoded data removed]",
      "text/plain": [
       "Plot with title \"Series  (resid(x.lm))\""
      ]
     },
     "metadata": {
      "image/png": {
       "height": 420,
       "width": 420
      }
     },
     "output_type": "display_data"
    }
   ],
   "source": [
    "acf(resid(x.lm))# Se observa la autocorrelación de los residuos\n",
    "\n",
    "pacf((resid(x.lm))) \n"
   ]
  },
  {
   "cell_type": "raw",
   "id": "97632eda-7247-4fd9-a254-f454ee0e8b7e",
   "metadata": {},
   "source": [
    "As expected, the residual time series is autocorrelated. In pacf figure, only the lag 1 partial autocorrelation is significant,\n",
    "which suggests that the residual series follows an AR(1) process. Again this should be as expected,\n",
    "given that an AR(1) process was used to simulate these residuals.\n"
   ]
  },
  {
   "cell_type": "markdown",
   "id": "a853b549-112d-45f0-9cda-45ced521a480",
   "metadata": {},
   "source": [
    "Model fitted to the temperature series (1970–2005)\n"
   ]
  },
  {
   "cell_type": "code",
   "execution_count": 5,
   "id": "18578465-77d6-4bed-8088-8ccffb30f37f",
   "metadata": {},
   "outputs": [
    {
     "data": {
      "image/png": "[encoded data removed]",
      "text/plain": [
       "plot without title"
      ]
     },
     "metadata": {
      "image/png": {
       "height": 420,
       "width": 420
      }
     },
     "output_type": "display_data"
    }
   ],
   "source": [
    "\n",
    "www <- 'https://raw.githubusercontent.com/prabeshdhakal/Introductory-Time-Series-with-R-Datasets/master/global.dat'\n",
    "Global <- scan(www)\n",
    "Global.ts <- ts(Global, st = c(1856, 1), end = c(2005, 12), fr = 12)\n",
    "\n",
    "plot(Global.ts)\n"
   ]
  },
  {
   "cell_type": "code",
   "execution_count": 6,
   "id": "f7c71a63-d543-4fde-a12a-b0473241c338",
   "metadata": {},
   "outputs": [
    {
     "data": {
      "text/html": [
       "<style>\n",
       ".dl-inline {width: auto; margin:0; padding: 0}\n",
       ".dl-inline>dt, .dl-inline>dd {float: none; width: auto; display: inline-block}\n",
       ".dl-inline>dt::after {content: \":\\0020\"; padding-right: .5ex}\n",
       ".dl-inline>dt:not(:first-of-type) {padding-left: .5ex}\n",
       "</style><dl class=dl-inline><dt>(Intercept)</dt><dd>-34.9204090111732</dd><dt>time(temp)</dt><dd>0.0176540020969156</dd></dl>\n"
      ],
      "text/latex": [
       "\\begin{description*}\n",
       "\\item[(Intercept)] -34.9204090111732\n",
       "\\item[time(temp)] 0.0176540020969156\n",
       "\\end{description*}\n"
      ],
      "text/markdown": [
       "(Intercept)\n",
       ":   -34.9204090111732time(temp)\n",
       ":   0.0176540020969156\n",
       "\n"
      ],
      "text/plain": [
       "(Intercept)  time(temp) \n",
       " -34.920409    0.017654 "
      ]
     },
     "metadata": {},
     "output_type": "display_data"
    },
    {
     "data": {
      "text/html": [
       "<table class=\"dataframe\">\n",
       "<caption>A matrix: 2 × 2 of type dbl</caption>\n",
       "<thead>\n",
       "\t<tr><th></th><th scope=col>2.5 %</th><th scope=col>97.5 %</th></tr>\n",
       "</thead>\n",
       "<tbody>\n",
       "\t<tr><th scope=row>(Intercept)</th><td>-37.21001248</td><td>-32.63080554</td></tr>\n",
       "\t<tr><th scope=row>time(temp)</th><td>  0.01650228</td><td>  0.01880572</td></tr>\n",
       "</tbody>\n",
       "</table>\n"
      ],
      "text/latex": [
       "A matrix: 2 × 2 of type dbl\n",
       "\\begin{tabular}{r|ll}\n",
       "  & 2.5 \\% & 97.5 \\%\\\\\n",
       "\\hline\n",
       "\t(Intercept) & -37.21001248 & -32.63080554\\\\\n",
       "\ttime(temp) &   0.01650228 &   0.01880572\\\\\n",
       "\\end{tabular}\n"
      ],
      "text/markdown": [
       "\n",
       "A matrix: 2 × 2 of type dbl\n",
       "\n",
       "| <!--/--> | 2.5 % | 97.5 % |\n",
       "|---|---|---|\n",
       "| (Intercept) | -37.21001248 | -32.63080554 |\n",
       "| time(temp) |   0.01650228 |   0.01880572 |\n",
       "\n"
      ],
      "text/plain": [
       "            2.5 %        97.5 %      \n",
       "(Intercept) -37.21001248 -32.63080554\n",
       "time(temp)    0.01650228   0.01880572"
      ]
     },
     "metadata": {},
     "output_type": "display_data"
    },
    {
     "data": {
      "image/png": "[encoded data removed]",
      "text/plain": [
       "Plot with title \"Series  resid(lm(temp ~ time(temp)))\""
      ]
     },
     "metadata": {
      "image/png": {
       "height": 420,
       "width": 420
      }
     },
     "output_type": "display_data"
    }
   ],
   "source": [
    "temp <- window(Global.ts, start = 1970)\n",
    "temp.lm <- lm(temp ~ time(temp))\n",
    "coef(temp.lm)\n",
    "confint(temp.lm)\n",
    "\n",
    "acf(resid(lm(temp~time(temp))))\n"
   ]
  },
  {
   "cell_type": "raw",
   "id": "4015165d-7c30-42d9-a582-7b55a4d3824a",
   "metadata": {},
   "source": [
    "The confidence interval for the slope does not contain zero, which would provide statistical evidence of an increasing trend \n",
    "in global temperatures if the autocorrelation in the residuals is negligible. However, the residual series is positively autocorrelated\n",
    "at shorter lags, leading to an underestimate of the standard error and too narrow a confidence interval for the slope.\n"
   ]
  },
  {
   "cell_type": "markdown",
   "id": "0e159e27-b144-45c8-9a92-05c0994a7f07",
   "metadata": {},
   "source": [
    "GLS fit to simulated series"
   ]
  },
  {
   "cell_type": "raw",
   "id": "9405fdfa-d69f-48f3-9ef6-9b7fc2250644",
   "metadata": {},
   "source": [
    "For a positive serial correlation in the residual series, this implies that the standard errors of the estimated regression parameters\n",
    "are likely to be underestimated (Equation (5.5)), and should therefore be corrected.\n",
    "\n",
    "Vamos a usar la serie simulada anteriormente: x\n",
    "Hay que llamar a una libreria: nlme"
   ]
  },
  {
   "cell_type": "code",
   "execution_count": 7,
   "id": "053a654b-72b6-4632-97ff-c4b68aadf55b",
   "metadata": {},
   "outputs": [
    {
     "data": {
      "text/html": [
       "<style>\n",
       ".dl-inline {width: auto; margin:0; padding: 0}\n",
       ".dl-inline>dt, .dl-inline>dd {float: none; width: auto; display: inline-block}\n",
       ".dl-inline>dt::after {content: \":\\0020\"; padding-right: .5ex}\n",
       ".dl-inline>dt:not(:first-of-type) {padding-left: .5ex}\n",
       "</style><dl class=dl-inline><dt>(Intercept)</dt><dd>58.2330184281834</dd><dt>Time</dt><dd>3.04224514505972</dd></dl>\n"
      ],
      "text/latex": [
       "\\begin{description*}\n",
       "\\item[(Intercept)] 58.2330184281834\n",
       "\\item[Time] 3.04224514505972\n",
       "\\end{description*}\n"
      ],
      "text/markdown": [
       "(Intercept)\n",
       ":   58.2330184281834Time\n",
       ":   3.04224514505972\n",
       "\n"
      ],
      "text/plain": [
       "(Intercept)        Time \n",
       "  58.233018    3.042245 "
      ]
     },
     "metadata": {},
     "output_type": "display_data"
    },
    {
     "data": {
      "text/html": [
       "<style>\n",
       ".dl-inline {width: auto; margin:0; padding: 0}\n",
       ".dl-inline>dt, .dl-inline>dd {float: none; width: auto; display: inline-block}\n",
       ".dl-inline>dt::after {content: \":\\0020\"; padding-right: .5ex}\n",
       ".dl-inline>dt:not(:first-of-type) {padding-left: .5ex}\n",
       "</style><dl class=dl-inline><dt>(Intercept)</dt><dd>11.9245679352726</dd><dt>Time</dt><dd>0.202444684874895</dd></dl>\n"
      ],
      "text/latex": [
       "\\begin{description*}\n",
       "\\item[(Intercept)] 11.9245679352726\n",
       "\\item[Time] 0.202444684874895\n",
       "\\end{description*}\n"
      ],
      "text/markdown": [
       "(Intercept)\n",
       ":   11.9245679352726Time\n",
       ":   0.202444684874895\n",
       "\n"
      ],
      "text/plain": [
       "(Intercept)        Time \n",
       " 11.9245679   0.2024447 "
      ]
     },
     "metadata": {},
     "output_type": "display_data"
    }
   ],
   "source": [
    "library(nlme)\n",
    "\n",
    "x.gls <- gls(x ~ Time, cor = corAR1(0.8))# A lag 1 autocorrelation of 0.8 is used\n",
    "                                         # above because this value was used to \n",
    "                                         # simulate the data.\n",
    "coef(x.gls)\n",
    "sqrt(diag(vcov(x.gls)))\n"
   ]
  },
  {
   "cell_type": "code",
   "execution_count": 8,
   "id": "cc26ef2a-a4fc-455a-80c6-e8d15a543d3b",
   "metadata": {},
   "outputs": [
    {
     "data": {
      "text/plain": [
       "Generalized least squares fit by REML\n",
       "  Model: x ~ Time \n",
       "  Data: NULL \n",
       "       AIC      BIC    logLik\n",
       "  862.8866 873.2265 -427.4433\n",
       "\n",
       "Correlation Structure: AR(1)\n",
       " Formula: ~1 \n",
       " Parameter estimate(s):\n",
       "      Phi \n",
       "0.7161368 \n",
       "\n",
       "Coefficients:\n",
       "               Value Std.Error   t-value p-value\n",
       "(Intercept) 58.23302 11.924568  4.883449       0\n",
       "Time         3.04225  0.202445 15.027538       0\n",
       "\n",
       " Correlation: \n",
       "     (Intr)\n",
       "Time -0.857\n",
       "\n",
       "Standardized residuals:\n",
       "       Min         Q1        Med         Q3        Max \n",
       "-1.6171329 -0.6195428  0.0353972  0.5836326  2.3184155 \n",
       "\n",
       "Residual standard error: 25.58595 \n",
       "Degrees of freedom: 100 total; 98 residual"
      ]
     },
     "metadata": {},
     "output_type": "display_data"
    }
   ],
   "source": [
    "summary(x.gls)"
   ]
  },
  {
   "cell_type": "raw",
   "id": "a3d8367c-48db-4e08-8949-2d8769566506",
   "metadata": {},
   "source": [
    "In the example above, the standard errors of the parameters are considerably greater than those obtained from OLS using lm \n",
    "and are more accurate as they take the autocorrelation into account.\n",
    "\n",
    "The parameter estimates from GLS will generally be slightly different from those obtained with OLS, because of the weighting.\n",
    "For example, the slope is estimated as 3.06 using lm but 3.04 using gls. \n",
    "\n",
    "In principle, the GLS estimators are preferable because they have smaller standard errors."
   ]
  },
  {
   "cell_type": "markdown",
   "id": "61a6b43c-1f20-414b-ae09-ad913682316a",
   "metadata": {},
   "source": [
    "Example: Seasonal model for the temperature series (temperature series (1970–2005):"
   ]
  },
  {
   "cell_type": "code",
   "execution_count": 9,
   "id": "83cb3f1f-2edb-407c-bcf5-fea4b4b6d663",
   "metadata": {},
   "outputs": [
    {
     "data": {
      "text/html": [
       "<style>\n",
       ".dl-inline {width: auto; margin:0; padding: 0}\n",
       ".dl-inline>dt, .dl-inline>dd {float: none; width: auto; display: inline-block}\n",
       ".dl-inline>dt::after {content: \":\\0020\"; padding-right: .5ex}\n",
       ".dl-inline>dt:not(:first-of-type) {padding-left: .5ex}\n",
       "</style><dl class=dl-inline><dt>Time</dt><dd>0.0177075825825833</dd><dt>factor(Seas)1</dt><dd>-34.9972648273288</dd><dt>factor(Seas)2</dt><dd>-34.9880182369884</dd><dt>factor(Seas)3</dt><dd>-35.010021646648</dd><dt>factor(Seas)4</dt><dd>-35.0122750563077</dd><dt>factor(Seas)5</dt><dd>-35.0336951326341</dd><dt>factor(Seas)6</dt><dd>-35.0250596534048</dd><dt>factor(Seas)7</dt><dd>-35.0268963963978</dd><dt>factor(Seas)8</dt><dd>-35.0247609171685</dd><dt>factor(Seas)9</dt><dd>-35.0383198823838</dd><dt>factor(Seas)10</dt><dd>-35.0524899587102</dd><dt>factor(Seas)11</dt><dd>-35.0655767017031</dd><dt>factor(Seas)12</dt><dd>-35.0487190002517</dd></dl>\n"
      ],
      "text/latex": [
       "\\begin{description*}\n",
       "\\item[Time] 0.0177075825825833\n",
       "\\item[factor(Seas)1] -34.9972648273288\n",
       "\\item[factor(Seas)2] -34.9880182369884\n",
       "\\item[factor(Seas)3] -35.010021646648\n",
       "\\item[factor(Seas)4] -35.0122750563077\n",
       "\\item[factor(Seas)5] -35.0336951326341\n",
       "\\item[factor(Seas)6] -35.0250596534048\n",
       "\\item[factor(Seas)7] -35.0268963963978\n",
       "\\item[factor(Seas)8] -35.0247609171685\n",
       "\\item[factor(Seas)9] -35.0383198823838\n",
       "\\item[factor(Seas)10] -35.0524899587102\n",
       "\\item[factor(Seas)11] -35.0655767017031\n",
       "\\item[factor(Seas)12] -35.0487190002517\n",
       "\\end{description*}\n"
      ],
      "text/markdown": [
       "Time\n",
       ":   0.0177075825825833factor(Seas)1\n",
       ":   -34.9972648273288factor(Seas)2\n",
       ":   -34.9880182369884factor(Seas)3\n",
       ":   -35.010021646648factor(Seas)4\n",
       ":   -35.0122750563077factor(Seas)5\n",
       ":   -35.0336951326341factor(Seas)6\n",
       ":   -35.0250596534048factor(Seas)7\n",
       ":   -35.0268963963978factor(Seas)8\n",
       ":   -35.0247609171685factor(Seas)9\n",
       ":   -35.0383198823838factor(Seas)10\n",
       ":   -35.0524899587102factor(Seas)11\n",
       ":   -35.0655767017031factor(Seas)12\n",
       ":   -35.0487190002517\n",
       "\n"
      ],
      "text/plain": [
       "          Time  factor(Seas)1  factor(Seas)2  factor(Seas)3  factor(Seas)4 \n",
       "    0.01770758   -34.99726483   -34.98801824   -35.01002165   -35.01227506 \n",
       " factor(Seas)5  factor(Seas)6  factor(Seas)7  factor(Seas)8  factor(Seas)9 \n",
       "  -35.03369513   -35.02505965   -35.02689640   -35.02476092   -35.03831988 \n",
       "factor(Seas)10 factor(Seas)11 factor(Seas)12 \n",
       "  -35.05248996   -35.06557670   -35.04871900 "
      ]
     },
     "metadata": {},
     "output_type": "display_data"
    }
   ],
   "source": [
    "www <- 'https://raw.githubusercontent.com/prabeshdhakal/Introductory-Time-Series-with-R-Datasets/master/global.dat'\n",
    "\n",
    "Global <- scan(www)\n",
    "Global.ts <- ts(Global, st = c(1856, 1), end = c(2005, 12), fr = 12)\n",
    "temp <- window(Global.ts, start = 1970)\n",
    "\n",
    "Seas <- cycle(temp)#  to seasonal indices extracted using the function cycle\n",
    "Time <- time(temp)\n",
    "\n",
    "temp.lm <- lm(temp ~ 0 + Time + factor(Seas))\n",
    "coef(temp.lm)\n"
   ]
  },
  {
   "cell_type": "code",
   "execution_count": 10,
   "id": "f90234cf-ab38-4ba9-9bf2-25d4be92ab87",
   "metadata": {},
   "outputs": [
    {
     "data": {
      "text/html": [
       "<style>\n",
       ".dl-inline {width: auto; margin:0; padding: 0}\n",
       ".dl-inline>dt, .dl-inline>dd {float: none; width: auto; display: inline-block}\n",
       ".dl-inline>dt::after {content: \":\\0020\"; padding-right: .5ex}\n",
       ".dl-inline>dt:not(:first-of-type) {padding-left: .5ex}\n",
       "</style><dl class=dl-inline><dt>Time</dt><dd>0.0177075825825833</dd><dt>factor(Seas)1</dt><dd>-34.9972648273288</dd><dt>factor(Seas)2</dt><dd>-34.9880182369884</dd><dt>factor(Seas)3</dt><dd>-35.0100216466481</dd><dt>factor(Seas)4</dt><dd>-35.0122750563077</dd><dt>factor(Seas)5</dt><dd>-35.0336951326341</dd><dt>factor(Seas)6</dt><dd>-35.0250596534048</dd><dt>factor(Seas)7</dt><dd>-35.0268963963978</dd><dt>factor(Seas)8</dt><dd>-35.0247609171685</dd><dt>factor(Seas)9</dt><dd>-35.0383198823838</dd><dt>factor(Seas)10</dt><dd>-35.0524899587102</dd><dt>factor(Seas)11</dt><dd>-35.0655767017031</dd><dt>factor(Seas)12</dt><dd>-35.0487190002517</dd></dl>\n"
      ],
      "text/latex": [
       "\\begin{description*}\n",
       "\\item[Time] 0.0177075825825833\n",
       "\\item[factor(Seas)1] -34.9972648273288\n",
       "\\item[factor(Seas)2] -34.9880182369884\n",
       "\\item[factor(Seas)3] -35.0100216466481\n",
       "\\item[factor(Seas)4] -35.0122750563077\n",
       "\\item[factor(Seas)5] -35.0336951326341\n",
       "\\item[factor(Seas)6] -35.0250596534048\n",
       "\\item[factor(Seas)7] -35.0268963963978\n",
       "\\item[factor(Seas)8] -35.0247609171685\n",
       "\\item[factor(Seas)9] -35.0383198823838\n",
       "\\item[factor(Seas)10] -35.0524899587102\n",
       "\\item[factor(Seas)11] -35.0655767017031\n",
       "\\item[factor(Seas)12] -35.0487190002517\n",
       "\\end{description*}\n"
      ],
      "text/markdown": [
       "Time\n",
       ":   0.0177075825825833factor(Seas)1\n",
       ":   -34.9972648273288factor(Seas)2\n",
       ":   -34.9880182369884factor(Seas)3\n",
       ":   -35.0100216466481factor(Seas)4\n",
       ":   -35.0122750563077factor(Seas)5\n",
       ":   -35.0336951326341factor(Seas)6\n",
       ":   -35.0250596534048factor(Seas)7\n",
       ":   -35.0268963963978factor(Seas)8\n",
       ":   -35.0247609171685factor(Seas)9\n",
       ":   -35.0383198823838factor(Seas)10\n",
       ":   -35.0524899587102factor(Seas)11\n",
       ":   -35.0655767017031factor(Seas)12\n",
       ":   -35.0487190002517\n",
       "\n"
      ],
      "text/plain": [
       "          Time  factor(Seas)1  factor(Seas)2  factor(Seas)3  factor(Seas)4 \n",
       "    0.01770758   -34.99726483   -34.98801824   -35.01002165   -35.01227506 \n",
       " factor(Seas)5  factor(Seas)6  factor(Seas)7  factor(Seas)8  factor(Seas)9 \n",
       "  -35.03369513   -35.02505965   -35.02689640   -35.02476092   -35.03831988 \n",
       "factor(Seas)10 factor(Seas)11 factor(Seas)12 \n",
       "  -35.05248996   -35.06557670   -35.04871900 "
      ]
     },
     "metadata": {},
     "output_type": "display_data"
    }
   ],
   "source": [
    "library(nlme)# usando gls o ols da, en este caso, lo mismo\n",
    "temp.gls <- gls(temp ~ 0 + Time + factor(Seas))\n",
    "coef(temp.gls)"
   ]
  },
  {
   "cell_type": "raw",
   "id": "727574cf-cd1e-41fd-919d-784518430b89",
   "metadata": {},
   "source": [
    "A zero is used within the formula to ensure that the model does not have an intercept.\n",
    "If the intercept is included in the formula, one of the seasonal terms will be dropped and an estimate for the intercept\n",
    "will appear in the output."
   ]
  },
  {
   "cell_type": "markdown",
   "id": "e1853196-4187-45bb-a2bb-8d485e191cb1",
   "metadata": {},
   "source": [
    "Using the above fitted model, a two-year-ahead future prediction for the\n",
    "temperature series is obtained as follows:"
   ]
  },
  {
   "cell_type": "code",
   "execution_count": 11,
   "id": "a26b3205-c7ca-4797-bdad-37d076e695c2",
   "metadata": {},
   "outputs": [
    {
     "data": {
      "text/html": [
       "<style>\n",
       ".dl-inline {width: auto; margin:0; padding: 0}\n",
       ".dl-inline>dt, .dl-inline>dd {float: none; width: auto; display: inline-block}\n",
       ".dl-inline>dt::after {content: \":\\0020\"; padding-right: .5ex}\n",
       ".dl-inline>dt:not(:first-of-type) {padding-left: .5ex}\n",
       "</style><dl class=dl-inline><dt>factor(Seas)1</dt><dd>0.524145833333264</dd><dt>factor(Seas)2</dt><dd>0.534868055555499</dd><dt>factor(Seas)3</dt><dd>0.514340277777755</dd><dt>factor(Seas)4</dt><dd>0.513562499999949</dd></dl>\n"
      ],
      "text/latex": [
       "\\begin{description*}\n",
       "\\item[factor(Seas)1] 0.524145833333264\n",
       "\\item[factor(Seas)2] 0.534868055555499\n",
       "\\item[factor(Seas)3] 0.514340277777755\n",
       "\\item[factor(Seas)4] 0.513562499999949\n",
       "\\end{description*}\n"
      ],
      "text/markdown": [
       "factor(Seas)1\n",
       ":   0.524145833333264factor(Seas)2\n",
       ":   0.534868055555499factor(Seas)3\n",
       ":   0.514340277777755factor(Seas)4\n",
       ":   0.513562499999949\n",
       "\n"
      ],
      "text/plain": [
       "factor(Seas)1 factor(Seas)2 factor(Seas)3 factor(Seas)4 \n",
       "    0.5241458     0.5348681     0.5143403     0.5135625 "
      ]
     },
     "metadata": {},
     "output_type": "display_data"
    }
   ],
   "source": [
    "new.t <- seq(2006, len = 2 * 12, by = 1/12)\n",
    "\n",
    "alpha <- coef(temp.lm)[1]\n",
    "beta <- rep(coef(temp.lm)[2:13], 2)\n",
    "(alpha * new.t + beta)[1:4]\n"
   ]
  },
  {
   "cell_type": "markdown",
   "id": "0cfd7280-4863-411e-aa8f-d5d09131c268",
   "metadata": {},
   "source": [
    "Alternatively, the predict function can be used to make forecasts provided\n",
    "the new data are correctly labelled within a data.frame:"
   ]
  },
  {
   "cell_type": "code",
   "execution_count": 12,
   "id": "033e52ad-0cfd-477f-85d2-b1ae2a456f5c",
   "metadata": {},
   "outputs": [
    {
     "data": {
      "text/html": [
       "<style>\n",
       ".dl-inline {width: auto; margin:0; padding: 0}\n",
       ".dl-inline>dt, .dl-inline>dd {float: none; width: auto; display: inline-block}\n",
       ".dl-inline>dt::after {content: \":\\0020\"; padding-right: .5ex}\n",
       ".dl-inline>dt:not(:first-of-type) {padding-left: .5ex}\n",
       "</style><dl class=dl-inline><dt>1</dt><dd>0.524145833333264</dd><dt>2</dt><dd>0.534868055555499</dd><dt>3</dt><dd>0.514340277777755</dd><dt>4</dt><dd>0.513562499999949</dd><dt>5</dt><dd>0.493618055555494</dd><dt>6</dt><dd>0.503729166666616</dd><dt>7</dt><dd>0.503368055555484</dd><dt>8</dt><dd>0.50697916666666</dd><dt>9</dt><dd>0.49489583333326</dd><dt>10</dt><dd>0.482201388888811</dd><dt>11</dt><dd>0.470590277777738</dd><dt>12</dt><dd>0.488923611111069</dd><dt>13</dt><dd>0.541853415915845</dd><dt>14</dt><dd>0.552575638138087</dd><dt>15</dt><dd>0.532047860360336</dd><dt>16</dt><dd>0.53127008258253</dd><dt>17</dt><dd>0.511325638138075</dd><dt>18</dt><dd>0.521436749249204</dd><dt>19</dt><dd>0.521075638138072</dd><dt>20</dt><dd>0.524686749249241</dd><dt>21</dt><dd>0.512603415915841</dd><dt>22</dt><dd>0.499908971471392</dd><dt>23</dt><dd>0.488297860360326</dd><dt>24</dt><dd>0.50663119369365</dd></dl>\n"
      ],
      "text/latex": [
       "\\begin{description*}\n",
       "\\item[1] 0.524145833333264\n",
       "\\item[2] 0.534868055555499\n",
       "\\item[3] 0.514340277777755\n",
       "\\item[4] 0.513562499999949\n",
       "\\item[5] 0.493618055555494\n",
       "\\item[6] 0.503729166666616\n",
       "\\item[7] 0.503368055555484\n",
       "\\item[8] 0.50697916666666\n",
       "\\item[9] 0.49489583333326\n",
       "\\item[10] 0.482201388888811\n",
       "\\item[11] 0.470590277777738\n",
       "\\item[12] 0.488923611111069\n",
       "\\item[13] 0.541853415915845\n",
       "\\item[14] 0.552575638138087\n",
       "\\item[15] 0.532047860360336\n",
       "\\item[16] 0.53127008258253\n",
       "\\item[17] 0.511325638138075\n",
       "\\item[18] 0.521436749249204\n",
       "\\item[19] 0.521075638138072\n",
       "\\item[20] 0.524686749249241\n",
       "\\item[21] 0.512603415915841\n",
       "\\item[22] 0.499908971471392\n",
       "\\item[23] 0.488297860360326\n",
       "\\item[24] 0.50663119369365\n",
       "\\end{description*}\n"
      ],
      "text/markdown": [
       "1\n",
       ":   0.5241458333332642\n",
       ":   0.5348680555554993\n",
       ":   0.5143402777777554\n",
       ":   0.5135624999999495\n",
       ":   0.4936180555554946\n",
       ":   0.5037291666666167\n",
       ":   0.5033680555554848\n",
       ":   0.506979166666669\n",
       ":   0.4948958333332610\n",
       ":   0.48220138888881111\n",
       ":   0.47059027777773812\n",
       ":   0.48892361111106913\n",
       ":   0.54185341591584514\n",
       ":   0.55257563813808715\n",
       ":   0.53204786036033616\n",
       ":   0.5312700825825317\n",
       ":   0.51132563813807518\n",
       ":   0.52143674924920419\n",
       ":   0.52107563813807220\n",
       ":   0.52468674924924121\n",
       ":   0.51260341591584122\n",
       ":   0.49990897147139223\n",
       ":   0.48829786036032624\n",
       ":   0.50663119369365\n",
       "\n"
      ],
      "text/plain": [
       "        1         2         3         4         5         6         7         8 \n",
       "0.5241458 0.5348681 0.5143403 0.5135625 0.4936181 0.5037292 0.5033681 0.5069792 \n",
       "        9        10        11        12        13        14        15        16 \n",
       "0.4948958 0.4822014 0.4705903 0.4889236 0.5418534 0.5525756 0.5320479 0.5312701 \n",
       "       17        18        19        20        21        22        23        24 \n",
       "0.5113256 0.5214367 0.5210756 0.5246867 0.5126034 0.4999090 0.4882979 0.5066312 "
      ]
     },
     "metadata": {},
     "output_type": "display_data"
    }
   ],
   "source": [
    "new.dat <- data.frame(Time = new.t, Seas = rep(1:12, 2))\n",
    "predict(temp.lm, new.dat)[1:24]"
   ]
  },
  {
   "cell_type": "raw",
   "id": "439ef014-6ad5-4b49-bdf5-f27fb06da3cb",
   "metadata": {},
   "source": [
    "Si no estoy entendiendo mal, genero los valores de los coeficientes del término estacional para las predicciones. \n",
    "Ese coeficiente (factor) lo uso en la fórmula para el cálculo de la tempertura: temp ~ 0 + Time + factor(Seas)"
   ]
  },
  {
   "cell_type": "markdown",
   "id": "4c09a9e1-4be7-4077-9e72-2d48357cdc43",
   "metadata": {},
   "source": [
    "HARMONIC SEASONAL MODELS"
   ]
  },
  {
   "cell_type": "code",
   "execution_count": 13,
   "id": "8747ad89-548a-4e7f-9749-b0cece3274c2",
   "metadata": {},
   "outputs": [
    {
     "data": {
      "image/png": "[encoded data removed]",
      "text/plain": [
       "plot without title"
      ]
     },
     "metadata": {
      "image/png": {
       "height": 420,
       "width": 420
      }
     },
     "output_type": "display_data"
    },
    {
     "data": {
      "image/png": "[encoded data removed]",
      "text/plain": [
       "plot without title"
      ]
     },
     "metadata": {
      "image/png": {
       "height": 420,
       "width": 420
      }
     },
     "output_type": "display_data"
    }
   ],
   "source": [
    "TIME <- seq(1, 12, len = 1000)\n",
    "plot(TIME, sin(2 * pi * TIME/12), type = \"l\")\n",
    "\n",
    "plot(TIME, sin(2 * pi * TIME/12) + 0.2 * sin(2 * pi * 2 *\n",
    "      TIME/12) + 0.1 * sin(2 * pi * 4 * TIME/12) + 0.1 *\n",
    "      cos(2 * pi * 4 * TIME/12), type = \"l\")"
   ]
  },
  {
   "cell_type": "markdown",
   "id": "ee50b112-5d6e-4022-9d6b-ffac1015279e",
   "metadata": {},
   "source": [
    "Simulation"
   ]
  },
  {
   "cell_type": "code",
   "execution_count": 14,
   "id": "de027d27-7cf1-4a37-a6d5-f8be1ef8586a",
   "metadata": {},
   "outputs": [
    {
     "data": {
      "image/png": "[encoded data removed]",
      "text/plain": [
       "plot without title"
      ]
     },
     "metadata": {
      "image/png": {
       "height": 420,
       "width": 420
      }
     },
     "output_type": "display_data"
    }
   ],
   "source": [
    "set.seed(1)\n",
    "TIME <- 1:(10*12)\n",
    "w <- rnorm(10*12, sd=0.5)\n",
    "\n",
    "Trend <- 0.1 + 0.005*TIME + 0.001*TIME^2\n",
    "Seasonal <- sin(2*pi*TIME/12) + 0.2*sin(2*pi*2*TIME/12) +\n",
    "  0.1*sin(2*pi*4*TIME/12) + 0.1*cos(2*pi*4*TIME/12)\n",
    "\n",
    "x <- Trend + Seasonal + w\n",
    "plot(x, type = 'l')"
   ]
  },
  {
   "cell_type": "code",
   "execution_count": 15,
   "id": "e2499096-a8e1-499d-9c4f-df1f03782c32",
   "metadata": {},
   "outputs": [
    {
     "data": {
      "image/png": "[encoded data removed]",
      "text/plain": [
       "plot without title"
      ]
     },
     "metadata": {
      "image/png": {
       "height": 420,
       "width": 420
      }
     },
     "output_type": "display_data"
    },
    {
     "data": {
      "image/png": "[encoded data removed]",
      "text/plain": [
       "plot without title"
      ]
     },
     "metadata": {
      "image/png": {
       "height": 420,
       "width": 420
      }
     },
     "output_type": "display_data"
    }
   ],
   "source": [
    "#################################\n",
    "# Esto es aparte, solo para ver cómo afecta con o sin ruido la serie\n",
    "Seasonal.1 <- sin(2*pi*TIME/12)\n",
    "x.1 <- Trend + Seasonal.1 + w\n",
    "plot(x.1, type = 'l')\n",
    "\n",
    "x.2 <- Trend + Seasonal.1# sin el ruido\n",
    "plot(x.2, type = 'l')\n",
    "################################"
   ]
  },
  {
   "cell_type": "markdown",
   "id": "02656af8-51f6-4c02-9024-df80cf1cfb44",
   "metadata": {},
   "source": [
    "Fit to simulated series"
   ]
  },
  {
   "cell_type": "code",
   "execution_count": 16,
   "id": "2c3af4d8-e859-44bc-bc3c-cc64c213f511",
   "metadata": {},
   "outputs": [
    {
     "data": {
      "text/html": [
       "<style>\n",
       ".dl-inline {width: auto; margin:0; padding: 0}\n",
       ".dl-inline>dt, .dl-inline>dd {float: none; width: auto; display: inline-block}\n",
       ".dl-inline>dt::after {content: \":\\0020\"; padding-right: .5ex}\n",
       ".dl-inline>dt:not(:first-of-type) {padding-left: .5ex}\n",
       "</style><dl class=dl-inline><dt>(Intercept)</dt><dd>1.23907577892271</dd><dt>TIME</dt><dd>1.12510093944241</dd><dt>I(TIME^2)</dt><dd>25.9327238638884</dd><dt>COS[, 1]</dt><dd>0.327739190951118</dd><dt>SIN[, 1]</dt><dd>15.4421538189435</dd><dt>COS[, 2]</dt><dd>-0.514635034928302</dd><dt>SIN[, 2]</dt><dd>3.44686521814239</dd><dt>COS[, 3]</dt><dd>0.231797475879471</dd><dt>SIN[, 3]</dt><dd>-0.702736756849166</dd><dt>COS[, 4]</dt><dd>0.227627275069028</dd><dt>SIN[, 4]</dt><dd>1.0525101254897</dd><dt>COS[, 5]</dt><dd>-1.15010765682539</dd><dt>SIN[, 5]</dt><dd>0.857360076384728</dd><dt>COS[, 6]</dt><dd>-0.310013673966308</dd><dt>SIN[, 6]</dt><dd>0.382393107192462</dd></dl>\n"
      ],
      "text/latex": [
       "\\begin{description*}\n",
       "\\item[(Intercept)] 1.23907577892271\n",
       "\\item[TIME] 1.12510093944241\n",
       "\\item[I(TIME\\textbackslash{}textasciicircum\\{\\}2)] 25.9327238638884\n",
       "\\item[COS\\{{[}\\}, 1\\{{]}\\}] 0.327739190951118\n",
       "\\item[SIN\\{{[}\\}, 1\\{{]}\\}] 15.4421538189435\n",
       "\\item[COS\\{{[}\\}, 2\\{{]}\\}] -0.514635034928302\n",
       "\\item[SIN\\{{[}\\}, 2\\{{]}\\}] 3.44686521814239\n",
       "\\item[COS\\{{[}\\}, 3\\{{]}\\}] 0.231797475879471\n",
       "\\item[SIN\\{{[}\\}, 3\\{{]}\\}] -0.702736756849166\n",
       "\\item[COS\\{{[}\\}, 4\\{{]}\\}] 0.227627275069028\n",
       "\\item[SIN\\{{[}\\}, 4\\{{]}\\}] 1.0525101254897\n",
       "\\item[COS\\{{[}\\}, 5\\{{]}\\}] -1.15010765682539\n",
       "\\item[SIN\\{{[}\\}, 5\\{{]}\\}] 0.857360076384728\n",
       "\\item[COS\\{{[}\\}, 6\\{{]}\\}] -0.310013673966308\n",
       "\\item[SIN\\{{[}\\}, 6\\{{]}\\}] 0.382393107192462\n",
       "\\end{description*}\n"
      ],
      "text/markdown": [
       "(Intercept)\n",
       ":   1.23907577892271TIME\n",
       ":   1.12510093944241I(TIME^2)\n",
       ":   25.9327238638884COS[, 1]\n",
       ":   0.327739190951118SIN[, 1]\n",
       ":   15.4421538189435COS[, 2]\n",
       ":   -0.514635034928302SIN[, 2]\n",
       ":   3.44686521814239COS[, 3]\n",
       ":   0.231797475879471SIN[, 3]\n",
       ":   -0.702736756849166COS[, 4]\n",
       ":   0.227627275069028SIN[, 4]\n",
       ":   1.0525101254897COS[, 5]\n",
       ":   -1.15010765682539SIN[, 5]\n",
       ":   0.857360076384728COS[, 6]\n",
       ":   -0.310013673966308SIN[, 6]\n",
       ":   0.382393107192462\n",
       "\n"
      ],
      "text/plain": [
       "(Intercept)        TIME   I(TIME^2)    COS[, 1]    SIN[, 1]    COS[, 2] \n",
       "  1.2390758   1.1251009  25.9327239   0.3277392  15.4421538  -0.5146350 \n",
       "   SIN[, 2]    COS[, 3]    SIN[, 3]    COS[, 4]    SIN[, 4]    COS[, 5] \n",
       "  3.4468652   0.2317975  -0.7027368   0.2276273   1.0525101  -1.1501077 \n",
       "   SIN[, 5]    COS[, 6]    SIN[, 6] \n",
       "  0.8573601  -0.3100137   0.3823931 "
      ]
     },
     "metadata": {},
     "output_type": "display_data"
    }
   ],
   "source": [
    "SIN <- COS <- matrix(nr = length(TIME), nc = 6)\n",
    "\n",
    "for (i in 1:6){\n",
    "  COS[, i] <- cos(2 * pi * i * TIME/12)\n",
    "  SIN[, i] <- sin(2 * pi * i * TIME/12)\n",
    "}\n",
    "\n",
    "x.lm1 <- lm(x ~ TIME + I(TIME^2) + COS[, 1] + SIN[, 1] +\n",
    "              COS[, 2] + SIN[, 2] + COS[, 3] + SIN[, 3] + COS[, 4] +\n",
    "              SIN[, 4] + COS[, 5] + SIN[, 5] + COS[, 6] + SIN[, 6])\n",
    "\n",
    "coef(x.lm1)/sqrt(diag(vcov(x.lm1)))\n",
    "\n",
    "# Para elegir con cuáles de los términos me quedo, por convención se dice que la significancia es cuando t-ratio es \n",
    "# por lo menos valor 2. Ese valor se consigue dividiendo el coeficiente estimado dividido el error estandar del coeficiente\n",
    "# que en este caso es: coef(x.lm1)/sqrt(diag(vcov(x.lm1)))\n"
   ]
  },
  {
   "cell_type": "code",
   "execution_count": 17,
   "id": "8ec4113c-cc4b-4acf-a2e6-21029fc4c8bf",
   "metadata": {},
   "outputs": [
    {
     "data": {
      "text/html": [
       "<style>\n",
       ".dl-inline {width: auto; margin:0; padding: 0}\n",
       ".dl-inline>dt, .dl-inline>dd {float: none; width: auto; display: inline-block}\n",
       ".dl-inline>dt::after {content: \":\\0020\"; padding-right: .5ex}\n",
       ".dl-inline>dt:not(:first-of-type) {padding-left: .5ex}\n",
       "</style><dl class=dl-inline><dt>(Intercept)</dt><dd>4.62790434226964</dd><dt>I(TIME^2)</dt><dd>111.143693281895</dd><dt>SIN[, 1]</dt><dd>15.7864251117873</dd><dt>SIN[, 2]</dt><dd>3.49470806465542</dd></dl>\n"
      ],
      "text/latex": [
       "\\begin{description*}\n",
       "\\item[(Intercept)] 4.62790434226964\n",
       "\\item[I(TIME\\textbackslash{}textasciicircum\\{\\}2)] 111.143693281895\n",
       "\\item[SIN\\{{[}\\}, 1\\{{]}\\}] 15.7864251117873\n",
       "\\item[SIN\\{{[}\\}, 2\\{{]}\\}] 3.49470806465542\n",
       "\\end{description*}\n"
      ],
      "text/markdown": [
       "(Intercept)\n",
       ":   4.62790434226964I(TIME^2)\n",
       ":   111.143693281895SIN[, 1]\n",
       ":   15.7864251117873SIN[, 2]\n",
       ":   3.49470806465542\n",
       "\n"
      ],
      "text/plain": [
       "(Intercept)   I(TIME^2)    SIN[, 1]    SIN[, 2] \n",
       "   4.627904  111.143693   15.786425    3.494708 "
      ]
     },
     "metadata": {},
     "output_type": "display_data"
    }
   ],
   "source": [
    "# Por lo arriba mencionado, me quedo con tres términos para construir el modelo:\n",
    "\n",
    "x.lm2 <- lm(x ~ I(TIME^2) + SIN[, 1] + SIN[, 2])\n",
    "coef(x.lm2)/sqrt(diag(vcov(x.lm2)))\n"
   ]
  },
  {
   "cell_type": "code",
   "execution_count": 18,
   "id": "5510abf2-93d1-4aa7-86c1-59acc7ffd0f5",
   "metadata": {},
   "outputs": [
    {
     "data": {
      "text/html": [
       "<style>\n",
       ".dl-inline {width: auto; margin:0; padding: 0}\n",
       ".dl-inline>dt, .dl-inline>dd {float: none; width: auto; display: inline-block}\n",
       ".dl-inline>dt::after {content: \":\\0020\"; padding-right: .5ex}\n",
       ".dl-inline>dt:not(:first-of-type) {padding-left: .5ex}\n",
       "</style><dl class=dl-inline><dt>(Intercept)</dt><dd>0.280403914618344</dd><dt>I(TIME^2)</dt><dd>0.00103640853106675</dd><dt>SIN[, 1]</dt><dd>0.900206804276565</dd><dt>SIN[, 2]</dt><dd>0.198862865608317</dd></dl>\n"
      ],
      "text/latex": [
       "\\begin{description*}\n",
       "\\item[(Intercept)] 0.280403914618344\n",
       "\\item[I(TIME\\textbackslash{}textasciicircum\\{\\}2)] 0.00103640853106675\n",
       "\\item[SIN\\{{[}\\}, 1\\{{]}\\}] 0.900206804276565\n",
       "\\item[SIN\\{{[}\\}, 2\\{{]}\\}] 0.198862865608317\n",
       "\\end{description*}\n"
      ],
      "text/markdown": [
       "(Intercept)\n",
       ":   0.280403914618344I(TIME^2)\n",
       ":   0.00103640853106675SIN[, 1]\n",
       ":   0.900206804276565SIN[, 2]\n",
       ":   0.198862865608317\n",
       "\n"
      ],
      "text/plain": [
       "(Intercept)   I(TIME^2)    SIN[, 1]    SIN[, 2] \n",
       "0.280403915 0.001036409 0.900206804 0.198862866 "
      ]
     },
     "metadata": {},
     "output_type": "display_data"
    }
   ],
   "source": [
    "# Los coeficientes del modelo son:\n",
    "coef(x.lm2)\n"
   ]
  },
  {
   "cell_type": "code",
   "execution_count": 19,
   "id": "746f8a73-5882-4f31-b36d-9913b1342af1",
   "metadata": {},
   "outputs": [
    {
     "data": {
      "text/html": [
       "165.352644425329"
      ],
      "text/latex": [
       "165.352644425329"
      ],
      "text/markdown": [
       "165.352644425329"
      ],
      "text/plain": [
       "[1] 165.3526"
      ]
     },
     "metadata": {},
     "output_type": "display_data"
    },
    {
     "data": {
      "text/html": [
       "149.725601501476"
      ],
      "text/latex": [
       "149.725601501476"
      ],
      "text/markdown": [
       "149.725601501476"
      ],
      "text/plain": [
       "[1] 149.7256"
      ]
     },
     "metadata": {},
     "output_type": "display_data"
    }
   ],
   "source": [
    "# El modelo de predicción es:\n",
    "\n",
    "# xˆt = 0.166 + 0.00104t^2 + 0.900 sin(2πt/12) + 0.199 sin(4πt/12)\n",
    "\n",
    "# The AIC can be used to compare the two fitted models:\n",
    "\n",
    "AIC(x.lm1)\n",
    "AIC(x.lm2)# Este tiene valor menor, entonces es el elegido\n"
   ]
  },
  {
   "cell_type": "code",
   "execution_count": 20,
   "id": "65d9f694-59ec-4541-9cdc-cbfefce31a72",
   "metadata": {},
   "outputs": [
    {
     "data": {
      "text/html": [
       "153.030926526283"
      ],
      "text/latex": [
       "153.030926526283"
      ],
      "text/markdown": [
       "153.030926526283"
      ],
      "text/plain": [
       "[1] 153.0309"
      ]
     },
     "metadata": {},
     "output_type": "display_data"
    }
   ],
   "source": [
    "# Due to sampling variation, the best-fitting model is not identical to the model used to simulate the data, as can easily be verified by\n",
    "# taking the AIC of the known underlying model:\n",
    "\n",
    "AIC(lm(x ~ TIME +I(TIME^2) +SIN[,1] +SIN[,2] +SIN[,4] +COS[,4]))\n"
   ]
  },
  {
   "cell_type": "code",
   "execution_count": 21,
   "id": "a5b19fab-76a5-4550-916b-9c359f0da599",
   "metadata": {},
   "outputs": [
    {
     "name": "stdout",
     "output_type": "stream",
     "text": [
      "Start:  AIC=-177.19\n",
      "x ~ TIME + I(TIME^2) + COS[, 1] + SIN[, 1] + COS[, 2] + SIN[, \n",
      "    2] + COS[, 3] + SIN[, 3] + COS[, 4] + SIN[, 4] + COS[, 5] + \n",
      "    SIN[, 5] + COS[, 6] + SIN[, 6]\n",
      "\n",
      "            Df Sum of Sq     RSS      AIC\n",
      "- COS[, 4]   1     0.011  21.357 -179.133\n",
      "- COS[, 3]   1     0.011  21.357 -179.131\n",
      "- COS[, 6]   1     0.020  21.366 -179.083\n",
      "- COS[, 1]   1     0.022  21.368 -179.070\n",
      "- SIN[, 6]   1     0.030  21.376 -179.026\n",
      "- COS[, 2]   1     0.054  21.400 -178.890\n",
      "- SIN[, 3]   1     0.100  21.447 -178.630\n",
      "- SIN[, 5]   1     0.149  21.496 -178.355\n",
      "- SIN[, 4]   1     0.225  21.572 -177.933\n",
      "- TIME       1     0.257  21.604 -177.755\n",
      "- COS[, 5]   1     0.269  21.615 -177.690\n",
      "<none>                    21.346 -177.193\n",
      "- SIN[, 2]   1     2.415  23.762 -166.329\n",
      "- SIN[, 1]   1    48.479  69.825  -36.979\n",
      "- I(TIME^2)  1   136.720 158.067   61.063\n",
      "\n",
      "Step:  AIC=-179.13\n",
      "x ~ TIME + I(TIME^2) + COS[, 1] + SIN[, 1] + COS[, 2] + SIN[, \n",
      "    2] + COS[, 3] + SIN[, 3] + SIN[, 4] + COS[, 5] + SIN[, 5] + \n",
      "    COS[, 6] + SIN[, 6]\n",
      "\n",
      "            Df Sum of Sq     RSS      AIC\n",
      "- COS[, 3]   1     0.011  21.368 -181.072\n",
      "- COS[, 6]   1     0.019  21.376 -181.029\n",
      "- COS[, 1]   1     0.022  21.379 -181.011\n",
      "- SIN[, 6]   1     0.032  21.389 -180.952\n",
      "- COS[, 2]   1     0.054  21.411 -180.830\n",
      "- SIN[, 3]   1     0.100  21.457 -180.572\n",
      "- SIN[, 5]   1     0.150  21.507 -180.292\n",
      "- SIN[, 4]   1     0.225  21.582 -179.876\n",
      "- TIME       1     0.258  21.615 -179.694\n",
      "- COS[, 5]   1     0.270  21.627 -179.625\n",
      "<none>                    21.357 -179.133\n",
      "- SIN[, 2]   1     2.419  23.776 -168.260\n",
      "- SIN[, 1]   1    48.480  69.837  -38.959\n",
      "- I(TIME^2)  1   136.726 158.083   59.076\n",
      "\n",
      "Step:  AIC=-181.07\n",
      "x ~ TIME + I(TIME^2) + COS[, 1] + SIN[, 1] + COS[, 2] + SIN[, \n",
      "    2] + SIN[, 3] + SIN[, 4] + COS[, 5] + SIN[, 5] + COS[, 6] + \n",
      "    SIN[, 6]\n",
      "\n",
      "            Df Sum of Sq     RSS      AIC\n",
      "- COS[, 6]   1     0.019  21.387 -182.964\n",
      "- COS[, 1]   1     0.022  21.390 -182.949\n",
      "- SIN[, 6]   1     0.031  21.399 -182.898\n",
      "- COS[, 2]   1     0.054  21.422 -182.769\n",
      "- SIN[, 3]   1     0.100  21.468 -182.510\n",
      "- SIN[, 5]   1     0.150  21.518 -182.233\n",
      "- SIN[, 4]   1     0.225  21.593 -181.814\n",
      "- TIME       1     0.258  21.626 -181.630\n",
      "- COS[, 5]   1     0.270  21.638 -181.567\n",
      "<none>                    21.368 -181.072\n",
      "- SIN[, 2]   1     2.417  23.785 -170.211\n",
      "- SIN[, 1]   1    48.483  69.851  -40.935\n",
      "- I(TIME^2)  1   136.725 158.093   57.083\n",
      "\n",
      "Step:  AIC=-182.96\n",
      "x ~ TIME + I(TIME^2) + COS[, 1] + SIN[, 1] + COS[, 2] + SIN[, \n",
      "    2] + SIN[, 3] + SIN[, 4] + COS[, 5] + SIN[, 5] + SIN[, 6]\n",
      "\n",
      "            Df Sum of Sq     RSS      AIC\n",
      "- COS[, 1]   1     0.022  21.409 -184.842\n",
      "- COS[, 2]   1     0.057  21.444 -184.645\n",
      "- SIN[, 6]   1     0.080  21.467 -184.517\n",
      "- SIN[, 3]   1     0.097  21.484 -184.420\n",
      "- SIN[, 5]   1     0.160  21.547 -184.069\n",
      "- SIN[, 4]   1     0.223  21.610 -183.721\n",
      "- TIME       1     0.257  21.644 -183.530\n",
      "- COS[, 5]   1     0.283  21.670 -183.387\n",
      "<none>                    21.387 -182.964\n",
      "- SIN[, 2]   1     2.455  23.842 -171.923\n",
      "- SIN[, 1]   1    48.475  69.862  -42.916\n",
      "- I(TIME^2)  1   136.801 158.188   55.155\n",
      "\n",
      "Step:  AIC=-184.84\n",
      "x ~ TIME + I(TIME^2) + SIN[, 1] + COS[, 2] + SIN[, 2] + SIN[, \n",
      "    3] + SIN[, 4] + COS[, 5] + SIN[, 5] + SIN[, 6]\n",
      "\n",
      "            Df Sum of Sq     RSS      AIC\n",
      "- COS[, 2]   1     0.057  21.466 -186.523\n",
      "- SIN[, 6]   1     0.080  21.489 -186.396\n",
      "- SIN[, 3]   1     0.097  21.506 -186.298\n",
      "- SIN[, 5]   1     0.160  21.569 -185.947\n",
      "- SIN[, 4]   1     0.223  21.632 -185.599\n",
      "- TIME       1     0.257  21.666 -185.412\n",
      "- COS[, 5]   1     0.283  21.692 -185.266\n",
      "<none>                    21.409 -184.842\n",
      "- SIN[, 2]   1     2.456  23.865 -173.812\n",
      "- SIN[, 1]   1    48.478  69.887  -44.873\n",
      "- I(TIME^2)  1   136.844 158.253   53.205\n",
      "\n",
      "Step:  AIC=-186.52\n",
      "x ~ TIME + I(TIME^2) + SIN[, 1] + SIN[, 2] + SIN[, 3] + SIN[, \n",
      "    4] + COS[, 5] + SIN[, 5] + SIN[, 6]\n",
      "\n",
      "            Df Sum of Sq     RSS      AIC\n",
      "- SIN[, 6]   1     0.070  21.536 -188.131\n",
      "- SIN[, 3]   1     0.098  21.564 -187.976\n",
      "- SIN[, 5]   1     0.158  21.624 -187.643\n",
      "- SIN[, 4]   1     0.223  21.689 -187.281\n",
      "- TIME       1     0.256  21.722 -187.100\n",
      "- COS[, 5]   1     0.280  21.746 -186.966\n",
      "<none>                    21.466 -186.523\n",
      "- SIN[, 2]   1     2.449  23.915 -175.560\n",
      "- SIN[, 1]   1    48.475  69.941  -46.781\n",
      "- I(TIME^2)  1   136.825 158.290   51.233\n",
      "\n",
      "Step:  AIC=-188.13\n",
      "x ~ TIME + I(TIME^2) + SIN[, 1] + SIN[, 2] + SIN[, 3] + SIN[, \n",
      "    4] + COS[, 5] + SIN[, 5]\n",
      "\n",
      "            Df Sum of Sq     RSS      AIC\n",
      "- SIN[, 3]   1     0.109  21.645 -189.525\n",
      "- SIN[, 5]   1     0.132  21.668 -189.400\n",
      "- SIN[, 4]   1     0.232  21.768 -188.847\n",
      "- COS[, 5]   1     0.247  21.783 -188.761\n",
      "- TIME       1     0.258  21.794 -188.702\n",
      "<none>                    21.536 -188.131\n",
      "- SIN[, 2]   1     2.386  23.923 -177.520\n",
      "- SIN[, 1]   1    48.501  70.037  -48.616\n",
      "- I(TIME^2)  1   136.755 158.291   49.233\n",
      "\n",
      "Step:  AIC=-189.53\n",
      "x ~ TIME + I(TIME^2) + SIN[, 1] + SIN[, 2] + SIN[, 4] + COS[, \n",
      "    5] + SIN[, 5]\n",
      "\n",
      "            Df Sum of Sq     RSS      AIC\n",
      "- SIN[, 5]   1     0.132  21.777 -190.798\n",
      "- SIN[, 4]   1     0.232  21.877 -190.247\n",
      "- COS[, 5]   1     0.247  21.893 -190.161\n",
      "- TIME       1     0.260  21.905 -190.093\n",
      "<none>                    21.645 -189.525\n",
      "- SIN[, 2]   1     2.387  24.032 -178.971\n",
      "- SIN[, 1]   1    48.508  70.154  -50.417\n",
      "- I(TIME^2)  1   136.750 158.395   47.312\n",
      "\n",
      "Step:  AIC=-190.8\n",
      "x ~ TIME + I(TIME^2) + SIN[, 1] + SIN[, 2] + SIN[, 4] + COS[, \n",
      "    5]\n",
      "\n",
      "            Df Sum of Sq     RSS      AIC\n",
      "- SIN[, 4]   1     0.232  22.008 -191.528\n",
      "- COS[, 5]   1     0.247  22.024 -191.443\n",
      "- TIME       1     0.259  22.036 -191.378\n",
      "<none>                    21.777 -190.798\n",
      "- SIN[, 2]   1     2.387  24.164 -180.317\n",
      "- SIN[, 1]   1    48.506  70.283  -52.195\n",
      "- I(TIME^2)  1   136.752 158.528   45.413\n",
      "\n",
      "Step:  AIC=-191.53\n",
      "x ~ TIME + I(TIME^2) + SIN[, 1] + SIN[, 2] + COS[, 5]\n",
      "\n",
      "            Df Sum of Sq     RSS      AIC\n",
      "- COS[, 5]   1     0.247  22.256 -192.187\n",
      "- TIME       1     0.258  22.266 -192.131\n",
      "<none>                    22.008 -191.528\n",
      "- SIN[, 2]   1     2.386  24.395 -181.175\n",
      "- SIN[, 1]   1    48.500  70.509  -53.811\n",
      "- I(TIME^2)  1   136.756 158.764   43.591\n",
      "\n",
      "Step:  AIC=-192.19\n",
      "x ~ TIME + I(TIME^2) + SIN[, 1] + SIN[, 2]\n",
      "\n",
      "            Df Sum of Sq     RSS      AIC\n",
      "- TIME       1     0.255  22.511 -192.820\n",
      "<none>                    22.256 -192.187\n",
      "- SIN[, 2]   1     2.385  24.641 -181.970\n",
      "- SIN[, 1]   1    48.490  70.745  -55.409\n",
      "- I(TIME^2)  1   136.755 159.011   41.778\n",
      "\n",
      "Step:  AIC=-192.82\n",
      "x ~ I(TIME^2) + SIN[, 1] + SIN[, 2]\n",
      "\n",
      "            Df Sum of Sq     RSS     AIC\n",
      "<none>                     22.51 -192.82\n",
      "- SIN[, 2]   1      2.37   24.88 -182.81\n",
      "- SIN[, 1]   1     48.36   70.87  -57.19\n",
      "- I(TIME^2)  1   2397.19 2419.70  366.47\n"
     ]
    },
    {
     "data": {
      "text/plain": [
       "\n",
       "Call:\n",
       "lm(formula = x ~ I(TIME^2) + SIN[, 1] + SIN[, 2])\n",
       "\n",
       "Coefficients:\n",
       "(Intercept)    I(TIME^2)     SIN[, 1]     SIN[, 2]  \n",
       "   0.280404     0.001036     0.900207     0.198863  \n"
      ]
     },
     "metadata": {},
     "output_type": "display_data"
    }
   ],
   "source": [
    "step(x.lm1)# Esta función prueba todas las opciones y al final te tira la mejor modelo, coincide con el que encontramos a pedal: x.lm2\n"
   ]
  },
  {
   "cell_type": "code",
   "execution_count": null,
   "id": "5adb2cd1-b47c-421b-b43c-82ba333e567b",
   "metadata": {},
   "outputs": [],
   "source": []
  },
  {
   "cell_type": "markdown",
   "id": "1ad15217-d50a-4b44-9d2b-283d1bcf019c",
   "metadata": {},
   "source": [
    "HARMONIC MODEL FITTED TO TEMPERATURE SERIES (1970–2005)"
   ]
  },
  {
   "cell_type": "raw",
   "id": "074895c4-6ac9-4fa1-bec9-1edfdfaf9cdb",
   "metadata": {},
   "source": [
    "The units for the ‘time’ variable are in ‘years’, so the divisor of 12 is not needed when creating the harmonic variables.\n",
    "\n",
    "To reduce computation error in the OLS procedure due to large numbers, the TIME variable is standardized \n",
    "after the COS and SIN predictors have been calculated.\n"
   ]
  },
  {
   "cell_type": "code",
   "execution_count": 22,
   "id": "22707916-b99e-463b-a5c2-5f965f9a58e8",
   "metadata": {},
   "outputs": [
    {
     "data": {
      "text/html": [
       "1987.95833333333"
      ],
      "text/latex": [
       "1987.95833333333"
      ],
      "text/markdown": [
       "1987.95833333333"
      ],
      "text/plain": [
       "[1] 1987.958"
      ]
     },
     "metadata": {},
     "output_type": "display_data"
    },
    {
     "data": {
      "text/html": [
       "10.4043260233424"
      ],
      "text/latex": [
       "10.4043260233424"
      ],
      "text/markdown": [
       "10.4043260233424"
      ],
      "text/plain": [
       "[1] 10.40433"
      ]
     },
     "metadata": {},
     "output_type": "display_data"
    }
   ],
   "source": [
    "SIN <- COS <- matrix(nr = length(temp), nc = 6)\n",
    "for (i in 1:6) {\n",
    "  COS[, i] <- cos(2 * pi * i * time(temp))\n",
    "  SIN[, i] <- sin(2 * pi * i * time(temp))\n",
    "}\n",
    "\n",
    "TIME <- (time(temp) - mean(time(temp)))/sd(time(temp))\n",
    "\n",
    "mean(time(temp))\n",
    "sd(time(temp))\n"
   ]
  },
  {
   "cell_type": "code",
   "execution_count": 23,
   "id": "64fa71ce-dfda-418a-8551-c0303e73ad6f",
   "metadata": {},
   "outputs": [
    {
     "data": {
      "text/html": [
       "<style>\n",
       ".dl-inline {width: auto; margin:0; padding: 0}\n",
       ".dl-inline>dt, .dl-inline>dd {float: none; width: auto; display: inline-block}\n",
       ".dl-inline>dt::after {content: \":\\0020\"; padding-right: .5ex}\n",
       ".dl-inline>dt:not(:first-of-type) {padding-left: .5ex}\n",
       "</style><dl class=dl-inline><dt>(Intercept)</dt><dd>18.2569117394825</dd><dt>TIME</dt><dd>30.2800741533768</dd><dt>I(TIME^2)</dt><dd>1.27368989966162</dd><dt>COS[, 1]</dt><dd>0.744790586722446</dd><dt>SIN[, 1]</dt><dd>2.38455121307961</dd><dt>COS[, 2]</dt><dd>1.20864192758506</dd><dt>SIN[, 2]</dt><dd>1.93108528821628</dd><dt>COS[, 3]</dt><dd>0.64481155263243</dd><dt>SIN[, 3]</dt><dd>0.397187330064958</dd><dt>COS[, 4]</dt><dd>0.54680246072988</dd><dt>SIN[, 4]</dt><dd>0.168175302406878</dd><dt>COS[, 5]</dt><dd>0.316978239013321</dd><dt>SIN[, 5]</dt><dd>0.350460728240878</dd><dt>COS[, 6]</dt><dd>-0.449874113674244</dd><dt>SIN[, 6]</dt><dd>-0.621664971885373</dd></dl>\n"
      ],
      "text/latex": [
       "\\begin{description*}\n",
       "\\item[(Intercept)] 18.2569117394825\n",
       "\\item[TIME] 30.2800741533768\n",
       "\\item[I(TIME\\textbackslash{}textasciicircum\\{\\}2)] 1.27368989966162\n",
       "\\item[COS\\{{[}\\}, 1\\{{]}\\}] 0.744790586722446\n",
       "\\item[SIN\\{{[}\\}, 1\\{{]}\\}] 2.38455121307961\n",
       "\\item[COS\\{{[}\\}, 2\\{{]}\\}] 1.20864192758506\n",
       "\\item[SIN\\{{[}\\}, 2\\{{]}\\}] 1.93108528821628\n",
       "\\item[COS\\{{[}\\}, 3\\{{]}\\}] 0.64481155263243\n",
       "\\item[SIN\\{{[}\\}, 3\\{{]}\\}] 0.397187330064958\n",
       "\\item[COS\\{{[}\\}, 4\\{{]}\\}] 0.54680246072988\n",
       "\\item[SIN\\{{[}\\}, 4\\{{]}\\}] 0.168175302406878\n",
       "\\item[COS\\{{[}\\}, 5\\{{]}\\}] 0.316978239013321\n",
       "\\item[SIN\\{{[}\\}, 5\\{{]}\\}] 0.350460728240878\n",
       "\\item[COS\\{{[}\\}, 6\\{{]}\\}] -0.449874113674244\n",
       "\\item[SIN\\{{[}\\}, 6\\{{]}\\}] -0.621664971885373\n",
       "\\end{description*}\n"
      ],
      "text/markdown": [
       "(Intercept)\n",
       ":   18.2569117394825TIME\n",
       ":   30.2800741533768I(TIME^2)\n",
       ":   1.27368989966162COS[, 1]\n",
       ":   0.744790586722446SIN[, 1]\n",
       ":   2.38455121307961COS[, 2]\n",
       ":   1.20864192758506SIN[, 2]\n",
       ":   1.93108528821628COS[, 3]\n",
       ":   0.64481155263243SIN[, 3]\n",
       ":   0.397187330064958COS[, 4]\n",
       ":   0.54680246072988SIN[, 4]\n",
       ":   0.168175302406878COS[, 5]\n",
       ":   0.316978239013321SIN[, 5]\n",
       ":   0.350460728240878COS[, 6]\n",
       ":   -0.449874113674244SIN[, 6]\n",
       ":   -0.621664971885373\n",
       "\n"
      ],
      "text/plain": [
       "(Intercept)        TIME   I(TIME^2)    COS[, 1]    SIN[, 1]    COS[, 2] \n",
       " 18.2569117  30.2800742   1.2736899   0.7447906   2.3845512   1.2086419 \n",
       "   SIN[, 2]    COS[, 3]    SIN[, 3]    COS[, 4]    SIN[, 4]    COS[, 5] \n",
       "  1.9310853   0.6448116   0.3971873   0.5468025   0.1681753   0.3169782 \n",
       "   SIN[, 5]    COS[, 6]    SIN[, 6] \n",
       "  0.3504607  -0.4498741  -0.6216650 "
      ]
     },
     "metadata": {},
     "output_type": "display_data"
    }
   ],
   "source": [
    "temp.lm1 <- lm(temp ~ TIME + I(TIME^2) +\n",
    "                 COS[,1] + SIN[,1] + COS[,2] + SIN[,2] +\n",
    "                 COS[,3] + SIN[,3] + COS[,4] + SIN[,4] +\n",
    "                 COS[,5] + SIN[,5] + COS[,6] + SIN[,6])\n",
    "\n",
    "coef(temp.lm1)/sqrt(diag(vcov(temp.lm1)))"
   ]
  },
  {
   "cell_type": "code",
   "execution_count": 24,
   "id": "2e6bacd6-c6e5-4641-802e-83d13bf51af4",
   "metadata": {},
   "outputs": [
    {
     "data": {
      "text/html": [
       "<style>\n",
       ".dl-inline {width: auto; margin:0; padding: 0}\n",
       ".dl-inline>dt, .dl-inline>dd {float: none; width: auto; display: inline-block}\n",
       ".dl-inline>dt::after {content: \":\\0020\"; padding-right: .5ex}\n",
       ".dl-inline>dt:not(:first-of-type) {padding-left: .5ex}\n",
       "</style><dl class=dl-inline><dt>(Intercept)</dt><dd>0.175011574074076</dd><dt>TIME</dt><dd>0.184096176630986</dd><dt>SIN[, 1]</dt><dd>0.020418029110649</dd><dt>SIN[, 2]</dt><dd>0.0161537434459158</dd></dl>\n"
      ],
      "text/latex": [
       "\\begin{description*}\n",
       "\\item[(Intercept)] 0.175011574074076\n",
       "\\item[TIME] 0.184096176630986\n",
       "\\item[SIN\\{{[}\\}, 1\\{{]}\\}] 0.020418029110649\n",
       "\\item[SIN\\{{[}\\}, 2\\{{]}\\}] 0.0161537434459158\n",
       "\\end{description*}\n"
      ],
      "text/markdown": [
       "(Intercept)\n",
       ":   0.175011574074076TIME\n",
       ":   0.184096176630986SIN[, 1]\n",
       ":   0.020418029110649SIN[, 2]\n",
       ":   0.0161537434459158\n",
       "\n"
      ],
      "text/plain": [
       "(Intercept)        TIME    SIN[, 1]    SIN[, 2] \n",
       " 0.17501157  0.18409618  0.02041803  0.01615374 "
      ]
     },
     "metadata": {},
     "output_type": "display_data"
    }
   ],
   "source": [
    "temp.lm2 <- lm(temp ~ TIME + SIN[, 1] + SIN[, 2])\n",
    "coef(temp.lm2)\n"
   ]
  },
  {
   "cell_type": "code",
   "execution_count": 25,
   "id": "8553f573-0eea-47ae-af03-16baa96aeb1a",
   "metadata": {},
   "outputs": [
    {
     "data": {
      "text/html": [
       "-546.957668613431"
      ],
      "text/latex": [
       "-546.957668613431"
      ],
      "text/markdown": [
       "-546.957668613431"
      ],
      "text/plain": [
       "[1] -546.9577"
      ]
     },
     "metadata": {},
     "output_type": "display_data"
    },
    {
     "data": {
      "text/html": [
       "-545.049128650349"
      ],
      "text/latex": [
       "-545.049128650349"
      ],
      "text/markdown": [
       "-545.049128650349"
      ],
      "text/plain": [
       "[1] -545.0491"
      ]
     },
     "metadata": {},
     "output_type": "display_data"
    },
    {
     "data": {
      "text/html": [
       "-561.177859086668"
      ],
      "text/latex": [
       "-561.177859086668"
      ],
      "text/markdown": [
       "-561.177859086668"
      ],
      "text/plain": [
       "[1] -561.1779"
      ]
     },
     "metadata": {},
     "output_type": "display_data"
    }
   ],
   "source": [
    "AIC(temp.lm)\n",
    "AIC(temp.lm1)\n",
    "AIC(temp.lm2)\n"
   ]
  },
  {
   "cell_type": "code",
   "execution_count": 26,
   "id": "30078b53-6004-4320-a996-64aac98c2e10",
   "metadata": {},
   "outputs": [
    {
     "data": {
      "image/png": "[encoded data removed]",
      "text/plain": [
       "plot without title"
      ]
     },
     "metadata": {
      "image/png": {
       "height": 420,
       "width": 420
      }
     },
     "output_type": "display_data"
    },
    {
     "data": {
      "image/png": "[encoded data removed]",
      "text/plain": [
       "Plot with title \"Series  resid(temp.lm2)\""
      ]
     },
     "metadata": {
      "image/png": {
       "height": 420,
       "width": 420
      }
     },
     "output_type": "display_data"
    },
    {
     "data": {
      "image/png": "[encoded data removed]",
      "text/plain": [
       "Plot with title \"Series  resid(temp.lm2)\""
      ]
     },
     "metadata": {
      "image/png": {
       "height": 420,
       "width": 420
      }
     },
     "output_type": "display_data"
    }
   ],
   "source": [
    "plot(time(temp), resid(temp.lm2), type = \"l\")\n",
    "abline(0, 0, col = \"red\")\n",
    "\n",
    "acf(resid(temp.lm2))\n",
    "pacf(resid(temp.lm2))\n",
    "\n",
    "# El plot de acf muestra que los residuos están autocorrelacionados. \n",
    "# Mirando el pacf se sugiere AR(2) en los residuos.\n"
   ]
  },
  {
   "cell_type": "code",
   "execution_count": 27,
   "id": "05d8b58b-8248-46bc-9e8b-6e4b15d51b39",
   "metadata": {},
   "outputs": [
    {
     "data": {
      "text/html": [
       "2"
      ],
      "text/latex": [
       "2"
      ],
      "text/markdown": [
       "2"
      ],
      "text/plain": [
       "[1] 2"
      ]
     },
     "metadata": {},
     "output_type": "display_data"
    },
    {
     "data": {
      "text/html": [
       "<style>\n",
       ".list-inline {list-style: none; margin:0; padding: 0}\n",
       ".list-inline>li {display: inline-block}\n",
       ".list-inline>li:not(:last-child)::after {content: \"\\00b7\"; padding: 0 .5ex}\n",
       "</style>\n",
       "<ol class=list-inline><li>0.493818937568059</li><li>0.307159780721969</li></ol>\n"
      ],
      "text/latex": [
       "\\begin{enumerate*}\n",
       "\\item 0.493818937568059\n",
       "\\item 0.307159780721969\n",
       "\\end{enumerate*}\n"
      ],
      "text/markdown": [
       "1. 0.493818937568059\n",
       "2. 0.307159780721969\n",
       "\n",
       "\n"
      ],
      "text/plain": [
       "[1] 0.4938189 0.3071598"
      ]
     },
     "metadata": {},
     "output_type": "display_data"
    },
    {
     "data": {
      "text/html": [
       "0.083733241307463"
      ],
      "text/latex": [
       "0.083733241307463"
      ],
      "text/markdown": [
       "0.083733241307463"
      ],
      "text/plain": [
       "[1] 0.08373324"
      ]
     },
     "metadata": {},
     "output_type": "display_data"
    },
    {
     "data": {
      "image/png": "[encoded data removed]",
      "text/plain": [
       "Plot with title \"Series  res.ar$res[-(1:2)]\""
      ]
     },
     "metadata": {
      "image/png": {
       "height": 420,
       "width": 420
      }
     },
     "output_type": "display_data"
    }
   ],
   "source": [
    "res.ar <- ar(resid(temp.lm2), method = \"mle\")\n",
    "res.ar$order\n",
    "res.ar$ar\n",
    "sd(res.ar$res[-(1:2)])# es el desvío de los resíduos\n",
    "\n",
    "acf(res.ar$res[-(1:2)])# estos residuos aparecen como white noise."
   ]
  },
  {
   "cell_type": "raw",
   "id": "6b7386a0-9349-4dd8-b1b6-b7ce073c8513",
   "metadata": {},
   "source": [
    "The fitted model for the monthly temperature series can be written as:\n",
    "\n",
    " xt = 0.175 + (0.184(t − 1988))/10.4 + 0.0204 sin(2πt) + 0.0162 sin(4πt) + zt\n",
    "\n",
    " (0.184(t − 1988))/10.4 Esto no es solo t porque TIME fue estandarizado\n",
    "\n",
    "where t is ‘time’ measured in units of ‘years’, the residual series {zt} follow an AR(2) process given by:\n",
    "\n",
    " zt = 0.494zt−1 + 0.307zt−2 + wt\n",
    "\n",
    " 0.494 y 0.307 vienen de res.ar$ar\n",
    " {wt} is white noise with mean zero and standard deviation 0.0837 (sd(res.ar$res[-(1:2)]))\n"
   ]
  },
  {
   "cell_type": "raw",
   "id": "63c8b21c-c9e6-4a10-bf63-310c3ce30609",
   "metadata": {},
   "source": [
    "Importante: If we require an accurate assessment of the standard error, we should refit the model using gls,\n",
    "allowing for an AR(2) structure for the errors\n"
   ]
  },
  {
   "cell_type": "code",
   "execution_count": null,
   "id": "2dfed6c6-ff7b-4a5e-a0cb-f8ff2bc33d4c",
   "metadata": {},
   "outputs": [],
   "source": []
  },
  {
   "cell_type": "markdown",
   "id": "beb2a8d3-ef54-477e-b7b8-8793aa7c387d",
   "metadata": {},
   "source": [
    "LOGARITHMIC TRANSFORMATIONS"
   ]
  },
  {
   "cell_type": "code",
   "execution_count": 28,
   "id": "fb3f37bc-dce7-429c-b28c-efd137ad83a4",
   "metadata": {},
   "outputs": [
    {
     "data": {
      "image/png": "[encoded data removed]",
      "text/plain": [
       "plot without title"
      ]
     },
     "metadata": {
      "image/png": {
       "height": 420,
       "width": 420
      }
     },
     "output_type": "display_data"
    },
    {
     "data": {
      "image/png": "[encoded data removed]",
      "text/plain": [
       "plot without title"
      ]
     },
     "metadata": {
      "image/png": {
       "height": 420,
       "width": 420
      }
     },
     "output_type": "display_data"
    }
   ],
   "source": [
    "data(\"AirPassengers\")\n",
    "AP <- AirPassengers\n",
    "\n",
    "plot(AP)# aumenta la varianza con el tiempo.\n",
    "plot(log(AP))# permite mantener la varianza menos variable en el tiempo."
   ]
  },
  {
   "cell_type": "raw",
   "id": "ccb724f9-357f-46dd-8806-9570cb53f1e0",
   "metadata": {},
   "source": [
    "A harmonic model with polynomial trend is fitted to the air passenger series\n",
    "\n",
    "The function time is used to extract the time and create a standardised time variable TIME."
   ]
  },
  {
   "cell_type": "code",
   "execution_count": 29,
   "id": "fd4e486d-a3c0-4f1d-9d00-c80c2d0c8653",
   "metadata": {},
   "outputs": [
    {
     "data": {
      "text/html": [
       "1954.95833333334"
      ],
      "text/latex": [
       "1954.95833333334"
      ],
      "text/markdown": [
       "1954.95833333334"
      ],
      "text/plain": [
       "[1] 1954.958"
      ]
     },
     "metadata": {},
     "output_type": "display_data"
    },
    {
     "data": {
      "text/html": [
       "3.47610893576999"
      ],
      "text/latex": [
       "3.47610893576999"
      ],
      "text/markdown": [
       "3.47610893576999"
      ],
      "text/plain": [
       "[1] 3.476109"
      ]
     },
     "metadata": {},
     "output_type": "display_data"
    }
   ],
   "source": [
    "SIN <- COS <- matrix(nr = length(AP), nc = 6)\n",
    "\n",
    "for (i in 1:6) {\n",
    "  SIN[, i] <- sin(2 * pi * i * time(AP))\n",
    "  COS[, i] <- cos(2 * pi * i * time(AP))\n",
    "}\n",
    "\n",
    "TIME <- (time(AP) - mean(time(AP)))/sd(time(AP))\n",
    "\n",
    "mean(time(AP))\n",
    "sd(time(AP))\n"
   ]
  },
  {
   "cell_type": "code",
   "execution_count": 30,
   "id": "75967251-b0d9-4d0d-8adc-66c8bdf0fc54",
   "metadata": {},
   "outputs": [
    {
     "data": {
      "text/html": [
       "<style>\n",
       ".dl-inline {width: auto; margin:0; padding: 0}\n",
       ".dl-inline>dt, .dl-inline>dd {float: none; width: auto; display: inline-block}\n",
       ".dl-inline>dt::after {content: \":\\0020\"; padding-right: .5ex}\n",
       ".dl-inline>dt:not(:first-of-type) {padding-left: .5ex}\n",
       "</style><dl class=dl-inline><dt>(Intercept)</dt><dd>744.685376855734</dd><dt>TIME</dt><dd>42.3818032782696</dd><dt>I(TIME^2)</dt><dd>-4.16233541710457</dd><dt>I(TIME^3)</dt><dd>-0.751493738397841</dd><dt>I(TIME^4)</dt><dd>1.87255753805395</dd><dt>SIN[, 1]</dt><dd>4.86785425529373</dd><dt>COS[, 1]</dt><dd>-26.0548659527082</dd><dt>SIN[, 2]</dt><dd>10.3951486179025</dd><dt>COS[, 2]</dt><dd>10.003954192604</dd><dt>SIN[, 3]</dt><dd>-4.8436269272808</dd><dt>COS[, 3]</dt><dd>-1.56013655986565</dd><dt>SIN[, 4]</dt><dd>-5.66620819441915</dd><dt>COS[, 4]</dt><dd>1.9459152773777</dd><dt>SIN[, 5]</dt><dd>-3.76620181934774</dd><dt>COS[, 5]</dt><dd>1.02595891974066</dd><dt>SIN[, 6]</dt><dd>0.150095092915339</dd><dt>COS[, 6]</dt><dd>-0.521385977924362</dd></dl>\n"
      ],
      "text/latex": [
       "\\begin{description*}\n",
       "\\item[(Intercept)] 744.685376855734\n",
       "\\item[TIME] 42.3818032782696\n",
       "\\item[I(TIME\\textbackslash{}textasciicircum\\{\\}2)] -4.16233541710457\n",
       "\\item[I(TIME\\textbackslash{}textasciicircum\\{\\}3)] -0.751493738397841\n",
       "\\item[I(TIME\\textbackslash{}textasciicircum\\{\\}4)] 1.87255753805395\n",
       "\\item[SIN\\{{[}\\}, 1\\{{]}\\}] 4.86785425529373\n",
       "\\item[COS\\{{[}\\}, 1\\{{]}\\}] -26.0548659527082\n",
       "\\item[SIN\\{{[}\\}, 2\\{{]}\\}] 10.3951486179025\n",
       "\\item[COS\\{{[}\\}, 2\\{{]}\\}] 10.003954192604\n",
       "\\item[SIN\\{{[}\\}, 3\\{{]}\\}] -4.8436269272808\n",
       "\\item[COS\\{{[}\\}, 3\\{{]}\\}] -1.56013655986565\n",
       "\\item[SIN\\{{[}\\}, 4\\{{]}\\}] -5.66620819441915\n",
       "\\item[COS\\{{[}\\}, 4\\{{]}\\}] 1.9459152773777\n",
       "\\item[SIN\\{{[}\\}, 5\\{{]}\\}] -3.76620181934774\n",
       "\\item[COS\\{{[}\\}, 5\\{{]}\\}] 1.02595891974066\n",
       "\\item[SIN\\{{[}\\}, 6\\{{]}\\}] 0.150095092915339\n",
       "\\item[COS\\{{[}\\}, 6\\{{]}\\}] -0.521385977924362\n",
       "\\end{description*}\n"
      ],
      "text/markdown": [
       "(Intercept)\n",
       ":   744.685376855734TIME\n",
       ":   42.3818032782696I(TIME^2)\n",
       ":   -4.16233541710457I(TIME^3)\n",
       ":   -0.751493738397841I(TIME^4)\n",
       ":   1.87255753805395SIN[, 1]\n",
       ":   4.86785425529373COS[, 1]\n",
       ":   -26.0548659527082SIN[, 2]\n",
       ":   10.3951486179025COS[, 2]\n",
       ":   10.003954192604SIN[, 3]\n",
       ":   -4.8436269272808COS[, 3]\n",
       ":   -1.56013655986565SIN[, 4]\n",
       ":   -5.66620819441915COS[, 4]\n",
       ":   1.9459152773777SIN[, 5]\n",
       ":   -3.76620181934774COS[, 5]\n",
       ":   1.02595891974066SIN[, 6]\n",
       ":   0.150095092915339COS[, 6]\n",
       ":   -0.521385977924362\n",
       "\n"
      ],
      "text/plain": [
       "(Intercept)        TIME   I(TIME^2)   I(TIME^3)   I(TIME^4)    SIN[, 1] \n",
       "744.6853769  42.3818033  -4.1623354  -0.7514937   1.8725575   4.8678543 \n",
       "   COS[, 1]    SIN[, 2]    COS[, 2]    SIN[, 3]    COS[, 3]    SIN[, 4] \n",
       "-26.0548660  10.3951486  10.0039542  -4.8436269  -1.5601366  -5.6662082 \n",
       "   COS[, 4]    SIN[, 5]    COS[, 5]    SIN[, 6]    COS[, 6] \n",
       "  1.9459153  -3.7662018   1.0259589   0.1500951  -0.5213860 "
      ]
     },
     "metadata": {},
     "output_type": "display_data"
    }
   ],
   "source": [
    "AP.lm1 <- lm(log(AP) ~ TIME + I(TIME^2) + I(TIME^3) + I(TIME^4) +\n",
    "               SIN[,1] + COS[,1] + SIN[,2] + COS[,2] + SIN[,3] + COS[,3] +\n",
    "               SIN[,4] + COS[,4] + SIN[,5] + COS[,5] + SIN[,6] + COS[,6])\n",
    "\n",
    "coef(AP.lm1)/sqrt(diag(vcov(AP.lm1)))\n"
   ]
  },
  {
   "cell_type": "code",
   "execution_count": 31,
   "id": "0be0ad66-2603-48fc-b54b-6c3dc01ed68b",
   "metadata": {},
   "outputs": [
    {
     "data": {
      "text/html": [
       "<style>\n",
       ".dl-inline {width: auto; margin:0; padding: 0}\n",
       ".dl-inline>dt, .dl-inline>dd {float: none; width: auto; display: inline-block}\n",
       ".dl-inline>dt::after {content: \":\\0020\"; padding-right: .5ex}\n",
       ".dl-inline>dt:not(:first-of-type) {padding-left: .5ex}\n",
       "</style><dl class=dl-inline><dt>(Intercept)</dt><dd>922.625444702546</dd><dt>TIME</dt><dd>103.520628116148</dd><dt>I(TIME^2)</dt><dd>-8.23556945337623</dd><dt>SIN[, 1]</dt><dd>4.91604064350476</dd><dt>COS[, 1]</dt><dd>-25.8131136135703</dd><dt>SIN[, 2]</dt><dd>10.3553189444664</dd><dt>COS[, 2]</dt><dd>9.96133492280653</dd><dt>SIN[, 3]</dt><dd>-4.78999688460866</dd><dt>SIN[, 4]</dt><dd>-5.61223461131554</dd><dt>COS[, 4]</dt><dd>1.94939064385974</dd><dt>SIN[, 5]</dt><dd>-3.7306659563996</dd></dl>\n"
      ],
      "text/latex": [
       "\\begin{description*}\n",
       "\\item[(Intercept)] 922.625444702546\n",
       "\\item[TIME] 103.520628116148\n",
       "\\item[I(TIME\\textbackslash{}textasciicircum\\{\\}2)] -8.23556945337623\n",
       "\\item[SIN\\{{[}\\}, 1\\{{]}\\}] 4.91604064350476\n",
       "\\item[COS\\{{[}\\}, 1\\{{]}\\}] -25.8131136135703\n",
       "\\item[SIN\\{{[}\\}, 2\\{{]}\\}] 10.3553189444664\n",
       "\\item[COS\\{{[}\\}, 2\\{{]}\\}] 9.96133492280653\n",
       "\\item[SIN\\{{[}\\}, 3\\{{]}\\}] -4.78999688460866\n",
       "\\item[SIN\\{{[}\\}, 4\\{{]}\\}] -5.61223461131554\n",
       "\\item[COS\\{{[}\\}, 4\\{{]}\\}] 1.94939064385974\n",
       "\\item[SIN\\{{[}\\}, 5\\{{]}\\}] -3.7306659563996\n",
       "\\end{description*}\n"
      ],
      "text/markdown": [
       "(Intercept)\n",
       ":   922.625444702546TIME\n",
       ":   103.520628116148I(TIME^2)\n",
       ":   -8.23556945337623SIN[, 1]\n",
       ":   4.91604064350476COS[, 1]\n",
       ":   -25.8131136135703SIN[, 2]\n",
       ":   10.3553189444664COS[, 2]\n",
       ":   9.96133492280653SIN[, 3]\n",
       ":   -4.78999688460866SIN[, 4]\n",
       ":   -5.61223461131554COS[, 4]\n",
       ":   1.94939064385974SIN[, 5]\n",
       ":   -3.7306659563996\n",
       "\n"
      ],
      "text/plain": [
       "(Intercept)        TIME   I(TIME^2)    SIN[, 1]    COS[, 1]    SIN[, 2] \n",
       " 922.625445  103.520628   -8.235569    4.916041  -25.813114   10.355319 \n",
       "   COS[, 2]    SIN[, 3]    SIN[, 4]    COS[, 4]    SIN[, 5] \n",
       "   9.961335   -4.789997   -5.612235    1.949391   -3.730666 "
      ]
     },
     "metadata": {},
     "output_type": "display_data"
    },
    {
     "data": {
      "text/html": [
       "-447.947491129269"
      ],
      "text/latex": [
       "-447.947491129269"
      ],
      "text/markdown": [
       "-447.947491129269"
      ],
      "text/plain": [
       "[1] -447.9475"
      ]
     },
     "metadata": {},
     "output_type": "display_data"
    },
    {
     "data": {
      "text/html": [
       "-451.074864398326"
      ],
      "text/latex": [
       "-451.074864398326"
      ],
      "text/markdown": [
       "-451.074864398326"
      ],
      "text/plain": [
       "[1] -451.0749"
      ]
     },
     "metadata": {},
     "output_type": "display_data"
    }
   ],
   "source": [
    "AP.lm2 <- lm(log(AP) ~ TIME + I(TIME^2) + SIN[,1] + COS[,1] +\n",
    "               SIN[,2] + COS[,2] + SIN[,3] + SIN[,4] + COS[,4] + SIN[,5])\n",
    "\n",
    "coef(AP.lm2)/sqrt(diag(vcov(AP.lm2)))\n",
    " \n",
    "AIC(AP.lm1)\n",
    "AIC(AP.lm2)\n"
   ]
  },
  {
   "cell_type": "code",
   "execution_count": 32,
   "id": "5dd7b9b0-8127-4ce7-bb66-0a097c35013e",
   "metadata": {},
   "outputs": [
    {
     "data": {
      "image/png": "[encoded data removed]",
      "text/plain": [
       "Plot with title \"Series  resid(AP.lm2)\""
      ]
     },
     "metadata": {
      "image/png": {
       "height": 420,
       "width": 420
      }
     },
     "output_type": "display_data"
    },
    {
     "data": {
      "image/png": "[encoded data removed]",
      "text/plain": [
       "Plot with title \"Series  resid(AP.lm2)\""
      ]
     },
     "metadata": {
      "image/png": {
       "height": 420,
       "width": 420
      }
     },
     "output_type": "display_data"
    }
   ],
   "source": [
    "acf(resid(AP.lm2))\n",
    "\n",
    "pacf(resid(AP.lm2))"
   ]
  },
  {
   "cell_type": "raw",
   "id": "af97e423-62af-4ed0-9c49-421becb1f14e",
   "metadata": {},
   "source": [
    "The residual correlogram indicates that the data are positively autocorrelated.\n",
    "\n",
    "As mentioned in §5.4, the standard errors of the parameter estimates are likely to be underestimated if there is positive serial correlation\n",
    "in the data. This implies that predictor variables may falsely appear ‘significant’ in the fitted model. \n"
   ]
  },
  {
   "cell_type": "raw",
   "id": "1dad03f8-4e4a-46c0-bec5-20b605bd92e3",
   "metadata": {},
   "source": [
    "GLS is used to check the significance of the variables in the fitted model, using the lag 1 autocorrelation (approximately 0.6).\n"
   ]
  },
  {
   "cell_type": "code",
   "execution_count": 34,
   "id": "0f79df66-8a03-443c-8608-3f7c93545e87",
   "metadata": {},
   "outputs": [
    {
     "data": {
      "text/html": [
       "<style>\n",
       ".dl-inline {width: auto; margin:0; padding: 0}\n",
       ".dl-inline>dt, .dl-inline>dd {float: none; width: auto; display: inline-block}\n",
       ".dl-inline>dt::after {content: \":\\0020\"; padding-right: .5ex}\n",
       ".dl-inline>dt:not(:first-of-type) {padding-left: .5ex}\n",
       "</style><dl class=dl-inline><dt>(Intercept)</dt><dd>398.841577005151</dd><dt>TIME</dt><dd>45.8505199532887</dd><dt>I(TIME^2)</dt><dd>-3.65128666585089</dd><dt>SIN[, 1]</dt><dd>3.29971347759774</dd><dt>COS[, 1]</dt><dd>-18.1778442199585</dd><dt>SIN[, 2]</dt><dd>11.7689339356342</dd><dt>COS[, 2]</dt><dd>11.4326781300596</dd><dt>SIN[, 3]</dt><dd>-7.63066026343665</dd><dt>SIN[, 4]</dt><dd>-10.7499377084498</dd><dt>COS[, 4]</dt><dd>3.57139495150683</dd><dt>SIN[, 5]</dt><dd>-7.92077737607645</dd></dl>\n"
      ],
      "text/latex": [
       "\\begin{description*}\n",
       "\\item[(Intercept)] 398.841577005151\n",
       "\\item[TIME] 45.8505199532887\n",
       "\\item[I(TIME\\textbackslash{}textasciicircum\\{\\}2)] -3.65128666585089\n",
       "\\item[SIN\\{{[}\\}, 1\\{{]}\\}] 3.29971347759774\n",
       "\\item[COS\\{{[}\\}, 1\\{{]}\\}] -18.1778442199585\n",
       "\\item[SIN\\{{[}\\}, 2\\{{]}\\}] 11.7689339356342\n",
       "\\item[COS\\{{[}\\}, 2\\{{]}\\}] 11.4326781300596\n",
       "\\item[SIN\\{{[}\\}, 3\\{{]}\\}] -7.63066026343665\n",
       "\\item[SIN\\{{[}\\}, 4\\{{]}\\}] -10.7499377084498\n",
       "\\item[COS\\{{[}\\}, 4\\{{]}\\}] 3.57139495150683\n",
       "\\item[SIN\\{{[}\\}, 5\\{{]}\\}] -7.92077737607645\n",
       "\\end{description*}\n"
      ],
      "text/markdown": [
       "(Intercept)\n",
       ":   398.841577005151TIME\n",
       ":   45.8505199532887I(TIME^2)\n",
       ":   -3.65128666585089SIN[, 1]\n",
       ":   3.29971347759774COS[, 1]\n",
       ":   -18.1778442199585SIN[, 2]\n",
       ":   11.7689339356342COS[, 2]\n",
       ":   11.4326781300596SIN[, 3]\n",
       ":   -7.63066026343665SIN[, 4]\n",
       ":   -10.7499377084498COS[, 4]\n",
       ":   3.57139495150683SIN[, 5]\n",
       ":   -7.92077737607645\n",
       "\n"
      ],
      "text/plain": [
       "(Intercept)        TIME   I(TIME^2)    SIN[, 1]    COS[, 1]    SIN[, 2] \n",
       " 398.841577   45.850520   -3.651287    3.299713  -18.177844   11.768934 \n",
       "   COS[, 2]    SIN[, 3]    SIN[, 4]    COS[, 4]    SIN[, 5] \n",
       "  11.432678   -7.630660  -10.749938    3.571395   -7.920777 "
      ]
     },
     "metadata": {},
     "output_type": "display_data"
    }
   ],
   "source": [
    "library(nlme)\n",
    "\n",
    "AP.gls <- gls(log(AP) ~ TIME + I(TIME^2) + SIN[,1] + COS[,1] +\n",
    "                SIN[,2] + COS[,2] + SIN[,3] + SIN[,4] + COS[,4] + SIN[,5],\n",
    "              cor = corAR1(0.6))\n",
    "\n",
    "coef(AP.gls)/sqrt(diag(vcov(AP.gls)))\n",
    "\n",
    "# veo que todos los coeficientes están cerca de 2 o superiores a 2."
   ]
  },
  {
   "cell_type": "raw",
   "id": "ccdfe0a8-0408-4a9e-b9a7-457f0e943f06",
   "metadata": {},
   "source": [
    "Figure of the partial autocorrelation plot suggests that the residual series follows an AR(1) process, which is fitted to the series below\n"
   ]
  },
  {
   "cell_type": "code",
   "execution_count": 35,
   "id": "02818a5c-f5fd-4de5-85c5-f998da714949",
   "metadata": {},
   "outputs": [
    {
     "data": {
      "text/html": [
       "0.641068541524739"
      ],
      "text/latex": [
       "0.641068541524739"
      ],
      "text/markdown": [
       "0.641068541524739"
      ],
      "text/plain": [
       "[1] 0.6410685"
      ]
     },
     "metadata": {},
     "output_type": "display_data"
    },
    {
     "data": {
      "image/png": "[encoded data removed]",
      "text/plain": [
       "Plot with title \"Series  AP.ar$res[-1]\""
      ]
     },
     "metadata": {
      "image/png": {
       "height": 420,
       "width": 420
      }
     },
     "output_type": "display_data"
    }
   ],
   "source": [
    "AP.ar <- ar(resid(AP.lm2), order = 1, method = \"mle\")\n",
    "AP.ar$ar\n",
    "\n",
    "acf(AP.ar$res[-1])# autocorrelación de los residuos que provienen del modelo de autoregresion de los residuos del modelo principal. \n"
   ]
  },
  {
   "cell_type": "raw",
   "id": "70264103-fdcc-4041-8ecc-7bc927c2c0bb",
   "metadata": {},
   "source": [
    "The correlogram of the residuals of the fitted AR(1) model might be taken for white noise given that only one autocorrelation is significant.\n",
    "\n",
    "Sin embargo, se ve en el seasonal lag=12 un valor significativo, indicando un fallo para dar cuenta de la variación estacional de los datos,\n",
    "cosa rara ya que el modelo fue armado considerando un modelo armónico estacional.\n",
    "\n",
    "Esto se debe a que el efecto estacional puede ser estocástico como la tendencia, y nosotros usamos un modelo estacional determinista.\n"
   ]
  },
  {
   "cell_type": "code",
   "execution_count": 36,
   "id": "bb318f23-d19a-4cc9-90de-a5ccb934355e",
   "metadata": {},
   "outputs": [],
   "source": [
    "############################"
   ]
  },
  {
   "cell_type": "markdown",
   "id": "8c3c6284-b5fa-4821-96f3-839f7c2be455",
   "metadata": {},
   "source": [
    "probemos con step()"
   ]
  },
  {
   "cell_type": "code",
   "execution_count": 41,
   "id": "9bddb9f4-3575-4780-a2b4-0a5d364e93d8",
   "metadata": {},
   "outputs": [
    {
     "name": "stdout",
     "output_type": "stream",
     "text": [
      "Start:  AIC=-858.6\n",
      "log(AP) ~ TIME + I(TIME^2) + I(TIME^3) + I(TIME^4) + SIN[, 1] + \n",
      "    COS[, 1] + SIN[, 2] + COS[, 2] + SIN[, 3] + COS[, 3] + SIN[, \n",
      "    4] + COS[, 4] + SIN[, 5] + COS[, 5] + SIN[, 6] + COS[, 6]\n",
      "\n",
      "            Df Sum of Sq    RSS     AIC\n",
      "- SIN[, 6]   1    0.0001 0.2927 -860.58\n",
      "- COS[, 6]   1    0.0006 0.2933 -860.29\n",
      "- I(TIME^3)  1    0.0013 0.2939 -859.96\n",
      "- COS[, 5]   1    0.0024 0.2951 -859.41\n",
      "<none>                   0.2926 -858.60\n",
      "- COS[, 3]   1    0.0056 0.2982 -857.87\n",
      "- I(TIME^4)  1    0.0081 0.3007 -856.68\n",
      "- COS[, 4]   1    0.0087 0.3014 -856.37\n",
      "- SIN[, 5]   1    0.0327 0.3253 -845.36\n",
      "- I(TIME^2)  1    0.0399 0.3326 -842.19\n",
      "- SIN[, 3]   1    0.0541 0.3467 -836.19\n",
      "- SIN[, 1]   1    0.0546 0.3472 -835.97\n",
      "- SIN[, 4]   1    0.0740 0.3666 -828.15\n",
      "- COS[, 2]   1    0.2306 0.5232 -776.92\n",
      "- SIN[, 2]   1    0.2490 0.5416 -771.95\n",
      "- COS[, 1]   1    1.5643 1.8569 -594.53\n",
      "- TIME       1    4.1389 4.4316 -469.27\n",
      "\n",
      "Step:  AIC=-860.58\n",
      "log(AP) ~ TIME + I(TIME^2) + I(TIME^3) + I(TIME^4) + SIN[, 1] + \n",
      "    COS[, 1] + SIN[, 2] + COS[, 2] + SIN[, 3] + COS[, 3] + SIN[, \n",
      "    4] + COS[, 4] + SIN[, 5] + COS[, 5] + COS[, 6]\n",
      "\n",
      "            Df Sum of Sq    RSS     AIC\n",
      "- COS[, 6]   1    0.0013 0.2940 -861.94\n",
      "- I(TIME^3)  1    0.0013 0.2940 -861.94\n",
      "- COS[, 5]   1    0.0024 0.2951 -861.39\n",
      "<none>                   0.2927 -860.58\n",
      "- COS[, 3]   1    0.0056 0.2983 -859.84\n",
      "- I(TIME^4)  1    0.0080 0.3007 -858.67\n",
      "- COS[, 4]   1    0.0087 0.3014 -858.36\n",
      "- SIN[, 5]   1    0.0326 0.3253 -847.35\n",
      "- I(TIME^2)  1    0.0399 0.3326 -844.19\n",
      "- SIN[, 3]   1    0.0540 0.3467 -838.19\n",
      "- SIN[, 1]   1    0.0547 0.3474 -837.91\n",
      "- SIN[, 4]   1    0.0739 0.3666 -830.14\n",
      "- COS[, 2]   1    0.2306 0.5233 -778.91\n",
      "- SIN[, 2]   1    0.2491 0.5418 -773.91\n",
      "- COS[, 1]   1    1.5657 1.8584 -596.42\n",
      "- TIME       1    4.1398 4.4325 -471.24\n",
      "\n",
      "Step:  AIC=-861.94\n",
      "log(AP) ~ TIME + I(TIME^2) + I(TIME^3) + I(TIME^4) + SIN[, 1] + \n",
      "    COS[, 1] + SIN[, 2] + COS[, 2] + SIN[, 3] + COS[, 3] + SIN[, \n",
      "    4] + COS[, 4] + SIN[, 5] + COS[, 5]\n",
      "\n",
      "            Df Sum of Sq    RSS     AIC\n",
      "- I(TIME^3)  1    0.0012 0.2952 -863.34\n",
      "- COS[, 5]   1    0.0024 0.2964 -862.76\n",
      "<none>                   0.2940 -861.94\n",
      "- COS[, 3]   1    0.0056 0.2996 -861.22\n",
      "- I(TIME^4)  1    0.0080 0.3020 -860.06\n",
      "- COS[, 4]   1    0.0087 0.3027 -859.74\n",
      "- SIN[, 5]   1    0.0326 0.3266 -848.78\n",
      "- I(TIME^2)  1    0.0399 0.3339 -845.63\n",
      "- SIN[, 3]   1    0.0540 0.3480 -839.66\n",
      "- SIN[, 1]   1    0.0547 0.3487 -839.36\n",
      "- SIN[, 4]   1    0.0739 0.3679 -831.64\n",
      "- COS[, 2]   1    0.2306 0.5246 -780.55\n",
      "- SIN[, 2]   1    0.2491 0.5431 -775.56\n",
      "- COS[, 1]   1    1.5656 1.8596 -598.32\n",
      "- TIME       1    4.1386 4.4326 -473.24\n",
      "\n",
      "Step:  AIC=-863.34\n",
      "log(AP) ~ TIME + I(TIME^2) + I(TIME^4) + SIN[, 1] + COS[, 1] + \n",
      "    SIN[, 2] + COS[, 2] + SIN[, 3] + COS[, 3] + SIN[, 4] + COS[, \n",
      "    4] + SIN[, 5] + COS[, 5]\n",
      "\n",
      "            Df Sum of Sq     RSS     AIC\n",
      "- COS[, 5]   1    0.0025  0.2977 -864.12\n",
      "<none>                    0.2952 -863.34\n",
      "- COS[, 3]   1    0.0055  0.3007 -862.69\n",
      "- I(TIME^4)  1    0.0080  0.3033 -861.47\n",
      "- COS[, 4]   1    0.0089  0.3041 -861.07\n",
      "- SIN[, 5]   1    0.0326  0.3278 -850.27\n",
      "- I(TIME^2)  1    0.0399  0.3351 -847.10\n",
      "- SIN[, 3]   1    0.0536  0.3488 -841.31\n",
      "- SIN[, 1]   1    0.0569  0.3521 -839.97\n",
      "- SIN[, 4]   1    0.0737  0.3689 -833.26\n",
      "- COS[, 2]   1    0.2317  0.5269 -781.92\n",
      "- SIN[, 2]   1    0.2512  0.5465 -776.67\n",
      "- COS[, 1]   1    1.5644  1.8596 -600.32\n",
      "- TIME       1   25.0595 25.3547 -224.11\n",
      "\n",
      "Step:  AIC=-864.12\n",
      "log(AP) ~ TIME + I(TIME^2) + I(TIME^4) + SIN[, 1] + COS[, 1] + \n",
      "    SIN[, 2] + COS[, 2] + SIN[, 3] + COS[, 3] + SIN[, 4] + COS[, \n",
      "    4] + SIN[, 5]\n",
      "\n",
      "            Df Sum of Sq     RSS     AIC\n",
      "<none>                    0.2977 -864.12\n",
      "- COS[, 3]   1    0.0055  0.3032 -863.49\n",
      "- I(TIME^4)  1    0.0080  0.3058 -862.28\n",
      "- COS[, 4]   1    0.0089  0.3066 -861.89\n",
      "- SIN[, 5]   1    0.0326  0.3303 -851.17\n",
      "- I(TIME^2)  1    0.0399  0.3376 -848.02\n",
      "- SIN[, 3]   1    0.0536  0.3514 -842.27\n",
      "- SIN[, 1]   1    0.0568  0.3546 -840.96\n",
      "- SIN[, 4]   1    0.0737  0.3714 -834.28\n",
      "- COS[, 2]   1    0.2316  0.5294 -783.24\n",
      "- SIN[, 2]   1    0.2512  0.5490 -778.02\n",
      "- COS[, 1]   1    1.5644  1.8622 -602.12\n",
      "- TIME       1   25.0582 25.3560 -226.10\n"
     ]
    },
    {
     "data": {
      "text/plain": [
       "\n",
       "Call:\n",
       "lm(formula = log(AP) ~ TIME + I(TIME^2) + I(TIME^4) + SIN[, 1] + \n",
       "    COS[, 1] + SIN[, 2] + COS[, 2] + SIN[, 3] + COS[, 3] + SIN[, \n",
       "    4] + COS[, 4] + SIN[, 5])\n",
       "\n",
       "Coefficients:\n",
       "(Intercept)         TIME    I(TIME^2)    I(TIME^4)     SIN[, 1]     COS[, 1]  \n",
       "   5.587706     0.419967    -0.065623     0.011063     0.028154    -0.147488  \n",
       "   SIN[, 2]     COS[, 2]     SIN[, 3]     COS[, 3]     SIN[, 4]     COS[, 4]  \n",
       "   0.059095     0.056731    -0.027293    -0.008732    -0.031986     0.011105  \n",
       "   SIN[, 5]  \n",
       "  -0.021264  \n"
      ]
     },
     "metadata": {},
     "output_type": "display_data"
    },
    {
     "data": {
      "text/html": [
       "-453.461705290585"
      ],
      "text/latex": [
       "-453.461705290585"
      ],
      "text/markdown": [
       "-453.461705290585"
      ],
      "text/plain": [
       "[1] -453.4617"
      ]
     },
     "metadata": {},
     "output_type": "display_data"
    },
    {
     "data": {
      "image/png": "[encoded data removed]",
      "text/plain": [
       "Plot with title \"Series  resid(AP.lm3)\""
      ]
     },
     "metadata": {
      "image/png": {
       "height": 420,
       "width": 420
      }
     },
     "output_type": "display_data"
    }
   ],
   "source": [
    "\n",
    "step(AP.lm1)\n",
    "\n",
    "AP.lm3 <- lm(log(AP) ~ TIME + I(TIME^2) + I(TIME^4) + SIN[, 1] + \n",
    "               COS[, 1] + SIN[, 2] + COS[, 2] + SIN[, 3] + COS[, 3] + SIN[, 4] +\n",
    "               COS[, 4] + SIN[, 5])\n",
    "AIC(AP.lm3)\n",
    "# Con step() el modelo elegido tiene más términos\n",
    "acf(resid(AP.lm3))# practicamente es igual a acf(resid(AP.lm2))\n"
   ]
  },
  {
   "cell_type": "code",
   "execution_count": 42,
   "id": "c3cb1362-5a44-415f-bd0b-b743e56e9ae4",
   "metadata": {},
   "outputs": [
    {
     "ename": "ERROR",
     "evalue": "Error in extractAIC.gls(fit, scale, k = k, ...): AIC undefined for REML fit\n",
     "output_type": "error",
     "traceback": [
      "Error in extractAIC.gls(fit, scale, k = k, ...): AIC undefined for REML fit\nTraceback:\n",
      "1. step(AP.lm4)",
      "2. extractAIC(fit, scale, k = k, ...)",
      "3. extractAIC.gls(fit, scale, k = k, ...)",
      "4. stop(\"AIC undefined for REML fit\")"
     ]
    }
   ],
   "source": [
    "# con gls\n",
    "AP.lm4 <- gls(log(AP) ~ TIME + I(TIME^2) + I(TIME^3) + I(TIME^4) +\n",
    "               SIN[,1] + COS[,1] + SIN[,2] + COS[,2] + SIN[,3] + COS[,3] +\n",
    "               SIN[,4] + COS[,4] + SIN[,5] + COS[,5] + SIN[,6] + COS[,6])\n",
    "\n",
    "step(AP.lm4)# esto me da error, no se si porque no se puede hacer o hay que agregar algún parámetro.\n"
   ]
  },
  {
   "cell_type": "code",
   "execution_count": 43,
   "id": "1b933ec8-a72e-4efd-bfde-5a8a5e7ab3be",
   "metadata": {},
   "outputs": [],
   "source": [
    "############################"
   ]
  },
  {
   "cell_type": "markdown",
   "id": "345fa69a-ffdf-4823-b6c1-4dab799410e8",
   "metadata": {},
   "source": [
    "NON-LINEAR MODELS"
   ]
  },
  {
   "cell_type": "code",
   "execution_count": 44,
   "id": "d8bf78ce-1cbf-4637-8389-61bd2056ef3b",
   "metadata": {},
   "outputs": [
    {
     "data": {
      "image/png": "[encoded data removed]",
      "text/plain": [
       "plot without title"
      ]
     },
     "metadata": {
      "image/png": {
       "height": 420,
       "width": 420
      }
     },
     "output_type": "display_data"
    }
   ],
   "source": [
    "# Example of a simulated and fitted non-linear series\n",
    "# Below, a non-linear series with AR(1) residuals is simulated and plotted\n",
    "\n",
    "# In R, a non-linear model can be fitted by least squares using the function nls.\n",
    "\n",
    "set.seed(1)\n",
    "w <- rnorm(100, sd=10)\n",
    "z <- rep(0, 100)\n",
    "for (t in 2:100) z[t] <- 0.7 * z[t - 1] + w[t]\n",
    "Time <- 1:100\n",
    "f <- function(x) exp(1 + 0.05 * x)# xt = −c0 + e(α0+α1t) + zt, este es el modelo usado para luego comparar los parámetros\n",
    "                                  # estimados con nls.\n",
    "\n",
    "x <- f(Time) + z\n",
    "plot(x, type = \"l\")\n",
    "abline(0, 0)\n"
   ]
  },
  {
   "cell_type": "raw",
   "id": "766a88ae-a434-4a0d-ac5c-04269be4b1fa",
   "metadata": {},
   "source": [
    "El plot muestra valores negativos, so that a direct log-transformation cannot be used and a non-linear model is needed.\n"
   ]
  },
  {
   "cell_type": "raw",
   "id": "777aab09-3734-4db5-a057-35a6589d7d11",
   "metadata": {},
   "source": [
    "One way around this problem is to add a constant to all the terms in the series, so if {xt} is a series containing (some) negative values,\n",
    "then adding c0 such that c0 > max{−xt} and then taking logs produces a transformed series {log(c0 +xt)} that is defined for all t. \n",
    "A linear model (e.g., a straight-line trend) could then be fitted to produce for {xt} the model\n",
    "\n",
    " xt = −c0 + e(α0+α1t+zt)\n",
    "\n",
    "where α0 and α1 are model parameters and {zt} is a residual series that may be autocorrelated\n"
   ]
  },
  {
   "cell_type": "code",
   "execution_count": 45,
   "id": "e17e392d-e3bb-4921-b289-11db7248a4e5",
   "metadata": {},
   "outputs": [
    {
     "data": {
      "text/html": [
       "<table class=\"dataframe\">\n",
       "<caption>A matrix: 2 × 4 of type dbl</caption>\n",
       "<thead>\n",
       "\t<tr><th></th><th scope=col>Estimate</th><th scope=col>Std. Error</th><th scope=col>t value</th><th scope=col>Pr(&gt;|t|)</th></tr>\n",
       "</thead>\n",
       "<tbody>\n",
       "\t<tr><th scope=row>alp0</th><td>1.17640120</td><td>0.0742954447</td><td>15.83410</td><td>9.204055e-29</td></tr>\n",
       "\t<tr><th scope=row>alp1</th><td>0.04828424</td><td>0.0008188462</td><td>58.96619</td><td>2.347543e-78</td></tr>\n",
       "</tbody>\n",
       "</table>\n"
      ],
      "text/latex": [
       "A matrix: 2 × 4 of type dbl\n",
       "\\begin{tabular}{r|llll}\n",
       "  & Estimate & Std. Error & t value & Pr(>\\textbar{}t\\textbar{})\\\\\n",
       "\\hline\n",
       "\talp0 & 1.17640120 & 0.0742954447 & 15.83410 & 9.204055e-29\\\\\n",
       "\talp1 & 0.04828424 & 0.0008188462 & 58.96619 & 2.347543e-78\\\\\n",
       "\\end{tabular}\n"
      ],
      "text/markdown": [
       "\n",
       "A matrix: 2 × 4 of type dbl\n",
       "\n",
       "| <!--/--> | Estimate | Std. Error | t value | Pr(&gt;|t|) |\n",
       "|---|---|---|---|---|\n",
       "| alp0 | 1.17640120 | 0.0742954447 | 15.83410 | 9.204055e-29 |\n",
       "| alp1 | 0.04828424 | 0.0008188462 | 58.96619 | 2.347543e-78 |\n",
       "\n"
      ],
      "text/plain": [
       "     Estimate   Std. Error   t value  Pr(>|t|)    \n",
       "alp0 1.17640120 0.0742954447 15.83410 9.204055e-29\n",
       "alp1 0.04828424 0.0008188462 58.96619 2.347543e-78"
      ]
     },
     "metadata": {},
     "output_type": "display_data"
    }
   ],
   "source": [
    "# In R, a non-linear model is fitted by specifying a formula with the parameters and their starting values contained in a list:\n",
    "\n",
    "x.nls <- nls(x ~ exp(alp0 + alp1 * Time), start = list(alp0 = 0.1, alp1 = 0.5))\n",
    "summary(x.nls)$parameters\n"
   ]
  },
  {
   "cell_type": "raw",
   "id": "7509a41c-bc27-49cc-9aa3-8d58a32928d9",
   "metadata": {},
   "source": [
    "The estimates for α0 and α1 are close to the underlying values that were used to simulate the data, \n",
    "although the standard errors of these estimates are likely to be underestimated because of the autocorrelation in the residuals.\n"
   ]
  },
  {
   "cell_type": "markdown",
   "id": "34651765-5144-4439-b23d-0dce61dbddf6",
   "metadata": {},
   "source": [
    "FORECASTING FROM REGRESSION"
   ]
  },
  {
   "cell_type": "raw",
   "id": "00ffda19-b457-413f-8209-9eb8bbf19297",
   "metadata": {},
   "source": [
    "In the code below, we use this function in the fitted regression model to forecast the number of air passengers travelling for the 10-year\n",
    "period that follows the record. The forecast is given by applying the exponential function (anti-log) to predict because the regression model\n",
    "was fitted to the logarithm of the series:\n"
   ]
  },
  {
   "cell_type": "code",
   "execution_count": 51,
   "id": "02916207-2c42-43ff-8509-453348a4341c",
   "metadata": {},
   "outputs": [],
   "source": [
    "data(\"AirPassengers\")\n",
    "AP <- AirPassengers\n",
    "\n",
    "new.t <- time(ts(start = 1961, end = c(1970, 12), fr = 12))\n",
    "TIME <- (new.t - mean(time(AP)))/sd(time(AP))\n",
    "SIN <- COS <- matrix(nr = length(new.t), nc = 6)\n",
    "\n",
    "for (i in 1:6) {\n",
    "  COS[, i] <- cos(2 * pi * i * new.t)\n",
    "  SIN[, i] <- sin(2 * pi * i * new.t)\n",
    "}\n",
    "\n",
    "SIN <- SIN[, -6]\n",
    "new.dat <- data.frame(TIME = as.vector(TIME), SIN = SIN, COS = COS)\n",
    "\n",
    "AP.pred.ts <- exp(ts(predict(AP.lm2, new.dat), st = 1961, fr = 12))# AP.lm2 viene de antes\n"
   ]
  },
  {
   "cell_type": "code",
   "execution_count": 52,
   "id": "32bec1ba-943a-4f03-ae3d-773b9c22a554",
   "metadata": {},
   "outputs": [
    {
     "data": {
      "image/png": "[encoded data removed]",
      "text/plain": [
       "plot without title"
      ]
     },
     "metadata": {
      "image/png": {
       "height": 420,
       "width": 420
      }
     },
     "output_type": "display_data"
    },
    {
     "data": {
      "image/png": "[encoded data removed]",
      "text/plain": [
       "plot without title"
      ]
     },
     "metadata": {
      "image/png": {
       "height": 420,
       "width": 420
      }
     },
     "output_type": "display_data"
    }
   ],
   "source": [
    "ts.plot(log(AP), log(AP.pred.ts), lty = 1:2)\n",
    "\n",
    "ts.plot(AP, AP.pred.ts, lty = 1:2)\n"
   ]
  },
  {
   "cell_type": "markdown",
   "id": "0709de5e-f773-421d-8fb1-4262c9f6a287",
   "metadata": {},
   "source": [
    "Inverse transform and bias correction:"
   ]
  },
  {
   "cell_type": "raw",
   "id": "c910811b-f642-425b-95a6-30f6c24af23e",
   "metadata": {},
   "source": [
    "La transformación logarítmica y luego la operiación para invertir los resultados para volverlos en sus valores a escalas orginiales \n",
    "generan sesgo en las medias.\n",
    "\n",
    "Ese sesgo será bajo si el ajuste es bueno. Si los residuos son una serie tipo White noise la corrección puede ser a través \n",
    "del cálculo de la media empírica o a través de una factor de corrección o usando la varianza calculada.\n"
   ]
  },
  {
   "cell_type": "raw",
   "id": "677ca2a1-3e5b-44cd-9d08-234d2849510d",
   "metadata": {},
   "source": [
    "Abajo se muestra esa corrección para el modelo anterior de los pasajeros."
   ]
  },
  {
   "cell_type": "code",
   "execution_count": 54,
   "id": "d8d5333e-ae50-4c3b-b01f-b92cffeb65fc",
   "metadata": {},
   "outputs": [
    {
     "data": {
      "text/html": [
       "0.988831829580602"
      ],
      "text/latex": [
       "0.988831829580602"
      ],
      "text/markdown": [
       "0.988831829580602"
      ],
      "text/plain": [
       "[1] 0.9888318"
      ]
     },
     "metadata": {},
     "output_type": "display_data"
    },
    {
     "data": {
      "text/html": [
       "0.0483750086456566"
      ],
      "text/latex": [
       "0.0483750086456566"
      ],
      "text/markdown": [
       "0.0483750086456566"
      ],
      "text/plain": [
       "[1] 0.04837501"
      ]
     },
     "metadata": {},
     "output_type": "display_data"
    },
    {
     "data": {
      "text/html": [
       "1.00117075553055"
      ],
      "text/latex": [
       "1.00117075553055"
      ],
      "text/markdown": [
       "1.00117075553055"
      ],
      "text/plain": [
       "[1] 1.001171"
      ]
     },
     "metadata": {},
     "output_type": "display_data"
    },
    {
     "data": {
      "text/html": [
       "1.00108016211765"
      ],
      "text/latex": [
       "1.00108016211765"
      ],
      "text/markdown": [
       "1.00108016211765"
      ],
      "text/plain": [
       "[1] 1.00108"
      ]
     },
     "metadata": {},
     "output_type": "display_data"
    }
   ],
   "source": [
    "summary(AP.lm2)$r.sq# R2\n",
    "\n",
    "sigma <- summary(AP.lm2)$sigma# 0.048\n",
    "sigma\n",
    "\n",
    "lognorm.correction.factor <- exp((1/2) * sigma^2)# 1.001171\n",
    "lognorm.correction.factor\n",
    "\n",
    "empirical.correction.factor <- mean(exp(resid(AP.lm2)))# 1.00108\n",
    "empirical.correction.factor\n",
    "\n",
    "AP.pred.ts <- AP.pred.ts * empirical.correction.factor# Predicción corregida\n"
   ]
  },
  {
   "cell_type": "code",
   "execution_count": null,
   "id": "46784bba-b6bc-4ba1-8799-c8b154f31287",
   "metadata": {},
   "outputs": [],
   "source": []
  }
 ],
 "metadata": {
  "kernelspec": {
   "display_name": "R",
   "language": "R",
   "name": "ir"
  },
  "language_info": {
   "codemirror_mode": "r",
   "file_extension": ".r",
   "mimetype": "text/x-r-source",
   "name": "R",
   "pygments_lexer": "r",
   "version": "4.2.1"
  }
 },
 "nbformat": 4,
 "nbformat_minor": 5
}
