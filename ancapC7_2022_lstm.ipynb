{
  "nbformat": 4,
  "nbformat_minor": 0,
  "metadata": {
    "colab": {
      "provenance": [],
      "authorship_tag": "ABX9TyOzL90IvrszjSTjDl+orcB9",
      "include_colab_link": true
    },
    "kernelspec": {
      "name": "python3",
      "display_name": "Python 3"
    },
    "language_info": {
      "name": "python"
    }
  },
  "cells": [
    {
      "cell_type": "markdown",
      "metadata": {
        "id": "view-in-github",
        "colab_type": "text"
      },
      "source": [
        "<a href=\"https://colab.research.google.com/github/inesdarosa/Series_temporales/blob/main/ancapC7_2022_lstm.ipynb\" target=\"_parent\"><img src=\"https://colab.research.google.com/assets/colab-badge.svg\" alt=\"Open In Colab\"/></a>"
      ]
    },
    {
      "cell_type": "code",
      "execution_count": 2,
      "metadata": {
        "id": "m0vBDd4XoZZd"
      },
      "outputs": [],
      "source": [
        "# USE CÓDIGO DE ACÁ: https://machinelearningmastery.com/time-series-prediction-lstm-recurrent-neural-networks-python-keras/\n",
        "\n",
        "import numpy as np\n",
        "import matplotlib.pyplot as plt\n",
        "import pandas as pd\n",
        "import tensorflow as tf\n",
        "from keras.models import Sequential\n",
        "from keras.layers import Dense\n",
        "from keras.layers import LSTM\n",
        "from sklearn.preprocessing import MinMaxScaler\n",
        "from sklearn.metrics import mean_squared_error"
      ]
    },
    {
      "cell_type": "code",
      "source": [
        "from google.colab import files\n",
        " \n",
        "files.upload()"
      ],
      "metadata": {
        "id": "Do-Lnf0joylx"
      },
      "execution_count": null,
      "outputs": []
    },
    {
      "cell_type": "code",
      "source": [
        "dataset = pd.read_csv('Desafio_Contenido_C7_Total_11-2017_09-2021.csv', usecols=[2], engine='python')"
      ],
      "metadata": {
        "id": "SSSM-5VEpah8"
      },
      "execution_count": 11,
      "outputs": []
    },
    {
      "cell_type": "code",
      "source": [
        "dataset.head()"
      ],
      "metadata": {
        "colab": {
          "base_uri": "https://localhost:8080/",
          "height": 206
        },
        "id": "bMzoj9DtqBrL",
        "outputId": "c4bf2d75-b154-4b60-e377-f7f2be7729b2"
      },
      "execution_count": 12,
      "outputs": [
        {
          "output_type": "execute_result",
          "data": {
            "text/plain": [
              "   Contenido_C7_Total\n",
              "0                1.58\n",
              "1                0.87\n",
              "2                1.29\n",
              "3                1.90\n",
              "4                0.68"
            ],
            "text/html": [
              "\n",
              "  <div id=\"df-106e151a-4252-4fe0-9033-c1e67e0503f7\">\n",
              "    <div class=\"colab-df-container\">\n",
              "      <div>\n",
              "<style scoped>\n",
              "    .dataframe tbody tr th:only-of-type {\n",
              "        vertical-align: middle;\n",
              "    }\n",
              "\n",
              "    .dataframe tbody tr th {\n",
              "        vertical-align: top;\n",
              "    }\n",
              "\n",
              "    .dataframe thead th {\n",
              "        text-align: right;\n",
              "    }\n",
              "</style>\n",
              "<table border=\"1\" class=\"dataframe\">\n",
              "  <thead>\n",
              "    <tr style=\"text-align: right;\">\n",
              "      <th></th>\n",
              "      <th>Contenido_C7_Total</th>\n",
              "    </tr>\n",
              "  </thead>\n",
              "  <tbody>\n",
              "    <tr>\n",
              "      <th>0</th>\n",
              "      <td>1.58</td>\n",
              "    </tr>\n",
              "    <tr>\n",
              "      <th>1</th>\n",
              "      <td>0.87</td>\n",
              "    </tr>\n",
              "    <tr>\n",
              "      <th>2</th>\n",
              "      <td>1.29</td>\n",
              "    </tr>\n",
              "    <tr>\n",
              "      <th>3</th>\n",
              "      <td>1.90</td>\n",
              "    </tr>\n",
              "    <tr>\n",
              "      <th>4</th>\n",
              "      <td>0.68</td>\n",
              "    </tr>\n",
              "  </tbody>\n",
              "</table>\n",
              "</div>\n",
              "      <button class=\"colab-df-convert\" onclick=\"convertToInteractive('df-106e151a-4252-4fe0-9033-c1e67e0503f7')\"\n",
              "              title=\"Convert this dataframe to an interactive table.\"\n",
              "              style=\"display:none;\">\n",
              "        \n",
              "  <svg xmlns=\"http://www.w3.org/2000/svg\" height=\"24px\"viewBox=\"0 0 24 24\"\n",
              "       width=\"24px\">\n",
              "    <path d=\"M0 0h24v24H0V0z\" fill=\"none\"/>\n",
              "    <path d=\"M18.56 5.44l.94 2.06.94-2.06 2.06-.94-2.06-.94-.94-2.06-.94 2.06-2.06.94zm-11 1L8.5 8.5l.94-2.06 2.06-.94-2.06-.94L8.5 2.5l-.94 2.06-2.06.94zm10 10l.94 2.06.94-2.06 2.06-.94-2.06-.94-.94-2.06-.94 2.06-2.06.94z\"/><path d=\"M17.41 7.96l-1.37-1.37c-.4-.4-.92-.59-1.43-.59-.52 0-1.04.2-1.43.59L10.3 9.45l-7.72 7.72c-.78.78-.78 2.05 0 2.83L4 21.41c.39.39.9.59 1.41.59.51 0 1.02-.2 1.41-.59l7.78-7.78 2.81-2.81c.8-.78.8-2.07 0-2.86zM5.41 20L4 18.59l7.72-7.72 1.47 1.35L5.41 20z\"/>\n",
              "  </svg>\n",
              "      </button>\n",
              "      \n",
              "  <style>\n",
              "    .colab-df-container {\n",
              "      display:flex;\n",
              "      flex-wrap:wrap;\n",
              "      gap: 12px;\n",
              "    }\n",
              "\n",
              "    .colab-df-convert {\n",
              "      background-color: #E8F0FE;\n",
              "      border: none;\n",
              "      border-radius: 50%;\n",
              "      cursor: pointer;\n",
              "      display: none;\n",
              "      fill: #1967D2;\n",
              "      height: 32px;\n",
              "      padding: 0 0 0 0;\n",
              "      width: 32px;\n",
              "    }\n",
              "\n",
              "    .colab-df-convert:hover {\n",
              "      background-color: #E2EBFA;\n",
              "      box-shadow: 0px 1px 2px rgba(60, 64, 67, 0.3), 0px 1px 3px 1px rgba(60, 64, 67, 0.15);\n",
              "      fill: #174EA6;\n",
              "    }\n",
              "\n",
              "    [theme=dark] .colab-df-convert {\n",
              "      background-color: #3B4455;\n",
              "      fill: #D2E3FC;\n",
              "    }\n",
              "\n",
              "    [theme=dark] .colab-df-convert:hover {\n",
              "      background-color: #434B5C;\n",
              "      box-shadow: 0px 1px 3px 1px rgba(0, 0, 0, 0.15);\n",
              "      filter: drop-shadow(0px 1px 2px rgba(0, 0, 0, 0.3));\n",
              "      fill: #FFFFFF;\n",
              "    }\n",
              "  </style>\n",
              "\n",
              "      <script>\n",
              "        const buttonEl =\n",
              "          document.querySelector('#df-106e151a-4252-4fe0-9033-c1e67e0503f7 button.colab-df-convert');\n",
              "        buttonEl.style.display =\n",
              "          google.colab.kernel.accessAllowed ? 'block' : 'none';\n",
              "\n",
              "        async function convertToInteractive(key) {\n",
              "          const element = document.querySelector('#df-106e151a-4252-4fe0-9033-c1e67e0503f7');\n",
              "          const dataTable =\n",
              "            await google.colab.kernel.invokeFunction('convertToInteractive',\n",
              "                                                     [key], {});\n",
              "          if (!dataTable) return;\n",
              "\n",
              "          const docLinkHtml = 'Like what you see? Visit the ' +\n",
              "            '<a target=\"_blank\" href=https://colab.research.google.com/notebooks/data_table.ipynb>data table notebook</a>'\n",
              "            + ' to learn more about interactive tables.';\n",
              "          element.innerHTML = '';\n",
              "          dataTable['output_type'] = 'display_data';\n",
              "          await google.colab.output.renderOutput(dataTable, element);\n",
              "          const docLink = document.createElement('div');\n",
              "          docLink.innerHTML = docLinkHtml;\n",
              "          element.appendChild(docLink);\n",
              "        }\n",
              "      </script>\n",
              "    </div>\n",
              "  </div>\n",
              "  "
            ]
          },
          "metadata": {},
          "execution_count": 12
        }
      ]
    },
    {
      "cell_type": "code",
      "source": [
        "plt.plot(dataset)\n",
        "plt.show()"
      ],
      "metadata": {
        "colab": {
          "base_uri": "https://localhost:8080/",
          "height": 265
        },
        "id": "Ey172l-XqHFB",
        "outputId": "361ce8bb-29e6-4da3-a486-b9b7908ac165"
      },
      "execution_count": 13,
      "outputs": [
        {
          "output_type": "display_data",
          "data": {
            "text/plain": [
              "<Figure size 432x288 with 1 Axes>"
            ],
            "image/png": "[encoded data removed]"
          },
          "metadata": {
            "needs_background": "light"
          }
        }
      ]
    },
    {
      "cell_type": "code",
      "source": [
        "# fix random seed for reproducibility\n",
        "tf.random.set_seed(7)"
      ],
      "metadata": {
        "id": "sASnvTJCqnQz"
      },
      "execution_count": 14,
      "outputs": []
    },
    {
      "cell_type": "code",
      "source": [
        "dataset = dataset.values\n",
        "dataset = dataset.astype('float32')"
      ],
      "metadata": {
        "id": "KBX7xYvAr80l"
      },
      "execution_count": 16,
      "outputs": []
    },
    {
      "cell_type": "code",
      "source": [
        "# normalize the dataset\n",
        "scaler = MinMaxScaler(feature_range=(0, 1))\n",
        "dataset = scaler.fit_transform(dataset)"
      ],
      "metadata": {
        "id": "g1poJrz6sTm4"
      },
      "execution_count": 17,
      "outputs": []
    },
    {
      "cell_type": "code",
      "source": [
        "# split into train and test sets\n",
        "train_size = int(len(dataset) * 0.67)\n",
        "test_size = len(dataset) - train_size\n",
        "train, test = dataset[0:train_size,:], dataset[train_size:len(dataset),:]\n",
        "print(len(train), len(test))"
      ],
      "metadata": {
        "colab": {
          "base_uri": "https://localhost:8080/"
        },
        "id": "skL50M2TsV3a",
        "outputId": "8869c87e-d327-412f-8e9f-941ffea2ebe0"
      },
      "execution_count": 18,
      "outputs": [
        {
          "output_type": "stream",
          "name": "stdout",
          "text": [
            "702 347\n"
          ]
        }
      ]
    },
    {
      "cell_type": "code",
      "source": [
        "# convert an array of values into a dataset matrix\n",
        "def create_dataset(dataset, look_back=1):\n",
        "\tdataX, dataY = [], []\n",
        "\tfor i in range(len(dataset)-look_back-1):\n",
        "\t\ta = dataset[i:(i+look_back), 0]\n",
        "\t\tdataX.append(a)\n",
        "\t\tdataY.append(dataset[i + look_back, 0])\n",
        "\treturn np.array(dataX), np.array(dataY)"
      ],
      "metadata": {
        "id": "J8XgExemsnkN"
      },
      "execution_count": 19,
      "outputs": []
    },
    {
      "cell_type": "code",
      "source": [
        "# reshape into X=t and Y=t+1\n",
        "look_back = 5\n",
        "trainX, trainY = create_dataset(train, look_back)\n",
        "testX, testY = create_dataset(test, look_back)"
      ],
      "metadata": {
        "id": "V-0-3-uYtFh7"
      },
      "execution_count": 30,
      "outputs": []
    },
    {
      "cell_type": "code",
      "source": [
        "# reshape input to be [samples, time steps, features]\n",
        "trainX = np.reshape(trainX, (trainX.shape[0], 1, trainX.shape[1]))\n",
        "testX = np.reshape(testX, (testX.shape[0], 1, testX.shape[1]))"
      ],
      "metadata": {
        "id": "KtOnO_YdtSS-"
      },
      "execution_count": 31,
      "outputs": []
    },
    {
      "cell_type": "code",
      "source": [
        "# create and fit the LSTM network\n",
        "model = Sequential()\n",
        "model.add(LSTM(4, input_shape=(1, look_back)))\n",
        "model.add(Dense(1))\n",
        "model.compile(loss='mean_squared_error', optimizer='adam')\n",
        "model.fit(trainX, trainY, epochs=100, batch_size=1, verbose=2)"
      ],
      "metadata": {
        "colab": {
          "base_uri": "https://localhost:8080/"
        },
        "id": "iTLjSjQntnmA",
        "outputId": "e98a2d26-df1e-4d68-8608-3195813f73bc"
      },
      "execution_count": 32,
      "outputs": [
        {
          "output_type": "stream",
          "name": "stdout",
          "text": [
            "Epoch 1/100\n",
            "696/696 - 2s - loss: 0.0040 - 2s/epoch - 3ms/step\n",
            "Epoch 2/100\n",
            "696/696 - 1s - loss: 0.0039 - 808ms/epoch - 1ms/step\n",
            "Epoch 3/100\n",
            "696/696 - 1s - loss: 0.0038 - 770ms/epoch - 1ms/step\n",
            "Epoch 4/100\n",
            "696/696 - 1s - loss: 0.0038 - 771ms/epoch - 1ms/step\n",
            "Epoch 5/100\n",
            "696/696 - 1s - loss: 0.0037 - 763ms/epoch - 1ms/step\n",
            "Epoch 6/100\n",
            "696/696 - 1s - loss: 0.0038 - 815ms/epoch - 1ms/step\n",
            "Epoch 7/100\n",
            "696/696 - 1s - loss: 0.0037 - 777ms/epoch - 1ms/step\n",
            "Epoch 8/100\n",
            "696/696 - 1s - loss: 0.0037 - 801ms/epoch - 1ms/step\n",
            "Epoch 9/100\n",
            "696/696 - 1s - loss: 0.0037 - 837ms/epoch - 1ms/step\n",
            "Epoch 10/100\n",
            "696/696 - 1s - loss: 0.0037 - 865ms/epoch - 1ms/step\n",
            "Epoch 11/100\n",
            "696/696 - 1s - loss: 0.0037 - 777ms/epoch - 1ms/step\n",
            "Epoch 12/100\n",
            "696/696 - 1s - loss: 0.0036 - 814ms/epoch - 1ms/step\n",
            "Epoch 13/100\n",
            "696/696 - 1s - loss: 0.0037 - 775ms/epoch - 1ms/step\n",
            "Epoch 14/100\n",
            "696/696 - 1s - loss: 0.0036 - 781ms/epoch - 1ms/step\n",
            "Epoch 15/100\n",
            "696/696 - 1s - loss: 0.0036 - 778ms/epoch - 1ms/step\n",
            "Epoch 16/100\n",
            "696/696 - 1s - loss: 0.0037 - 802ms/epoch - 1ms/step\n",
            "Epoch 17/100\n",
            "696/696 - 1s - loss: 0.0036 - 796ms/epoch - 1ms/step\n",
            "Epoch 18/100\n",
            "696/696 - 1s - loss: 0.0036 - 799ms/epoch - 1ms/step\n",
            "Epoch 19/100\n",
            "696/696 - 1s - loss: 0.0036 - 851ms/epoch - 1ms/step\n",
            "Epoch 20/100\n",
            "696/696 - 1s - loss: 0.0036 - 773ms/epoch - 1ms/step\n",
            "Epoch 21/100\n",
            "696/696 - 1s - loss: 0.0036 - 771ms/epoch - 1ms/step\n",
            "Epoch 22/100\n",
            "696/696 - 1s - loss: 0.0036 - 770ms/epoch - 1ms/step\n",
            "Epoch 23/100\n",
            "696/696 - 1s - loss: 0.0036 - 794ms/epoch - 1ms/step\n",
            "Epoch 24/100\n",
            "696/696 - 1s - loss: 0.0036 - 787ms/epoch - 1ms/step\n",
            "Epoch 25/100\n",
            "696/696 - 1s - loss: 0.0036 - 774ms/epoch - 1ms/step\n",
            "Epoch 26/100\n",
            "696/696 - 1s - loss: 0.0036 - 751ms/epoch - 1ms/step\n",
            "Epoch 27/100\n",
            "696/696 - 1s - loss: 0.0036 - 784ms/epoch - 1ms/step\n",
            "Epoch 28/100\n",
            "696/696 - 1s - loss: 0.0036 - 779ms/epoch - 1ms/step\n",
            "Epoch 29/100\n",
            "696/696 - 1s - loss: 0.0036 - 774ms/epoch - 1ms/step\n",
            "Epoch 30/100\n",
            "696/696 - 1s - loss: 0.0036 - 754ms/epoch - 1ms/step\n",
            "Epoch 31/100\n",
            "696/696 - 1s - loss: 0.0036 - 787ms/epoch - 1ms/step\n",
            "Epoch 32/100\n",
            "696/696 - 1s - loss: 0.0035 - 835ms/epoch - 1ms/step\n",
            "Epoch 33/100\n",
            "696/696 - 1s - loss: 0.0036 - 785ms/epoch - 1ms/step\n",
            "Epoch 34/100\n",
            "696/696 - 1s - loss: 0.0036 - 777ms/epoch - 1ms/step\n",
            "Epoch 35/100\n",
            "696/696 - 1s - loss: 0.0036 - 804ms/epoch - 1ms/step\n",
            "Epoch 36/100\n",
            "696/696 - 1s - loss: 0.0036 - 1s/epoch - 1ms/step\n",
            "Epoch 37/100\n",
            "696/696 - 1s - loss: 0.0036 - 1s/epoch - 1ms/step\n",
            "Epoch 38/100\n",
            "696/696 - 1s - loss: 0.0036 - 792ms/epoch - 1ms/step\n",
            "Epoch 39/100\n",
            "696/696 - 1s - loss: 0.0036 - 770ms/epoch - 1ms/step\n",
            "Epoch 40/100\n",
            "696/696 - 1s - loss: 0.0035 - 761ms/epoch - 1ms/step\n",
            "Epoch 41/100\n",
            "696/696 - 1s - loss: 0.0036 - 761ms/epoch - 1ms/step\n",
            "Epoch 42/100\n",
            "696/696 - 1s - loss: 0.0036 - 800ms/epoch - 1ms/step\n",
            "Epoch 43/100\n",
            "696/696 - 1s - loss: 0.0035 - 773ms/epoch - 1ms/step\n",
            "Epoch 44/100\n",
            "696/696 - 1s - loss: 0.0035 - 808ms/epoch - 1ms/step\n",
            "Epoch 45/100\n",
            "696/696 - 1s - loss: 0.0035 - 773ms/epoch - 1ms/step\n",
            "Epoch 46/100\n",
            "696/696 - 1s - loss: 0.0035 - 787ms/epoch - 1ms/step\n",
            "Epoch 47/100\n",
            "696/696 - 1s - loss: 0.0036 - 820ms/epoch - 1ms/step\n",
            "Epoch 48/100\n",
            "696/696 - 1s - loss: 0.0035 - 795ms/epoch - 1ms/step\n",
            "Epoch 49/100\n",
            "696/696 - 1s - loss: 0.0035 - 817ms/epoch - 1ms/step\n",
            "Epoch 50/100\n",
            "696/696 - 1s - loss: 0.0035 - 804ms/epoch - 1ms/step\n",
            "Epoch 51/100\n",
            "696/696 - 1s - loss: 0.0035 - 816ms/epoch - 1ms/step\n",
            "Epoch 52/100\n",
            "696/696 - 1s - loss: 0.0035 - 771ms/epoch - 1ms/step\n",
            "Epoch 53/100\n",
            "696/696 - 1s - loss: 0.0035 - 762ms/epoch - 1ms/step\n",
            "Epoch 54/100\n",
            "696/696 - 1s - loss: 0.0035 - 831ms/epoch - 1ms/step\n",
            "Epoch 55/100\n",
            "696/696 - 1s - loss: 0.0035 - 805ms/epoch - 1ms/step\n",
            "Epoch 56/100\n",
            "696/696 - 1s - loss: 0.0035 - 796ms/epoch - 1ms/step\n",
            "Epoch 57/100\n",
            "696/696 - 1s - loss: 0.0035 - 782ms/epoch - 1ms/step\n",
            "Epoch 58/100\n",
            "696/696 - 1s - loss: 0.0035 - 770ms/epoch - 1ms/step\n",
            "Epoch 59/100\n",
            "696/696 - 1s - loss: 0.0035 - 741ms/epoch - 1ms/step\n",
            "Epoch 60/100\n",
            "696/696 - 1s - loss: 0.0035 - 754ms/epoch - 1ms/step\n",
            "Epoch 61/100\n",
            "696/696 - 1s - loss: 0.0035 - 800ms/epoch - 1ms/step\n",
            "Epoch 62/100\n",
            "696/696 - 1s - loss: 0.0035 - 789ms/epoch - 1ms/step\n",
            "Epoch 63/100\n",
            "696/696 - 1s - loss: 0.0035 - 763ms/epoch - 1ms/step\n",
            "Epoch 64/100\n",
            "696/696 - 1s - loss: 0.0035 - 757ms/epoch - 1ms/step\n",
            "Epoch 65/100\n",
            "696/696 - 1s - loss: 0.0035 - 809ms/epoch - 1ms/step\n",
            "Epoch 66/100\n",
            "696/696 - 1s - loss: 0.0035 - 802ms/epoch - 1ms/step\n",
            "Epoch 67/100\n",
            "696/696 - 1s - loss: 0.0035 - 795ms/epoch - 1ms/step\n",
            "Epoch 68/100\n",
            "696/696 - 1s - loss: 0.0035 - 772ms/epoch - 1ms/step\n",
            "Epoch 69/100\n",
            "696/696 - 1s - loss: 0.0035 - 810ms/epoch - 1ms/step\n",
            "Epoch 70/100\n",
            "696/696 - 1s - loss: 0.0035 - 888ms/epoch - 1ms/step\n",
            "Epoch 71/100\n",
            "696/696 - 1s - loss: 0.0035 - 798ms/epoch - 1ms/step\n",
            "Epoch 72/100\n",
            "696/696 - 1s - loss: 0.0035 - 789ms/epoch - 1ms/step\n",
            "Epoch 73/100\n",
            "696/696 - 1s - loss: 0.0035 - 792ms/epoch - 1ms/step\n",
            "Epoch 74/100\n",
            "696/696 - 1s - loss: 0.0035 - 772ms/epoch - 1ms/step\n",
            "Epoch 75/100\n",
            "696/696 - 1s - loss: 0.0035 - 820ms/epoch - 1ms/step\n",
            "Epoch 76/100\n",
            "696/696 - 1s - loss: 0.0035 - 782ms/epoch - 1ms/step\n",
            "Epoch 77/100\n",
            "696/696 - 1s - loss: 0.0035 - 754ms/epoch - 1ms/step\n",
            "Epoch 78/100\n",
            "696/696 - 1s - loss: 0.0035 - 797ms/epoch - 1ms/step\n",
            "Epoch 79/100\n",
            "696/696 - 1s - loss: 0.0035 - 791ms/epoch - 1ms/step\n",
            "Epoch 80/100\n",
            "696/696 - 1s - loss: 0.0035 - 827ms/epoch - 1ms/step\n",
            "Epoch 81/100\n",
            "696/696 - 1s - loss: 0.0035 - 800ms/epoch - 1ms/step\n",
            "Epoch 82/100\n",
            "696/696 - 1s - loss: 0.0035 - 817ms/epoch - 1ms/step\n",
            "Epoch 83/100\n",
            "696/696 - 1s - loss: 0.0035 - 836ms/epoch - 1ms/step\n",
            "Epoch 84/100\n",
            "696/696 - 1s - loss: 0.0035 - 764ms/epoch - 1ms/step\n",
            "Epoch 85/100\n",
            "696/696 - 1s - loss: 0.0035 - 854ms/epoch - 1ms/step\n",
            "Epoch 86/100\n",
            "696/696 - 1s - loss: 0.0034 - 778ms/epoch - 1ms/step\n",
            "Epoch 87/100\n",
            "696/696 - 1s - loss: 0.0035 - 809ms/epoch - 1ms/step\n",
            "Epoch 88/100\n",
            "696/696 - 1s - loss: 0.0034 - 769ms/epoch - 1ms/step\n",
            "Epoch 89/100\n",
            "696/696 - 1s - loss: 0.0035 - 742ms/epoch - 1ms/step\n",
            "Epoch 90/100\n",
            "696/696 - 1s - loss: 0.0035 - 766ms/epoch - 1ms/step\n",
            "Epoch 91/100\n",
            "696/696 - 1s - loss: 0.0035 - 751ms/epoch - 1ms/step\n",
            "Epoch 92/100\n",
            "696/696 - 1s - loss: 0.0034 - 764ms/epoch - 1ms/step\n",
            "Epoch 93/100\n",
            "696/696 - 1s - loss: 0.0035 - 809ms/epoch - 1ms/step\n",
            "Epoch 94/100\n",
            "696/696 - 1s - loss: 0.0035 - 807ms/epoch - 1ms/step\n",
            "Epoch 95/100\n",
            "696/696 - 1s - loss: 0.0035 - 791ms/epoch - 1ms/step\n",
            "Epoch 96/100\n",
            "696/696 - 1s - loss: 0.0035 - 741ms/epoch - 1ms/step\n",
            "Epoch 97/100\n",
            "696/696 - 1s - loss: 0.0034 - 800ms/epoch - 1ms/step\n",
            "Epoch 98/100\n",
            "696/696 - 1s - loss: 0.0034 - 813ms/epoch - 1ms/step\n",
            "Epoch 99/100\n",
            "696/696 - 1s - loss: 0.0034 - 806ms/epoch - 1ms/step\n",
            "Epoch 100/100\n",
            "696/696 - 1s - loss: 0.0035 - 768ms/epoch - 1ms/step\n"
          ]
        },
        {
          "output_type": "execute_result",
          "data": {
            "text/plain": [
              "<keras.callbacks.History at 0x7f918642f290>"
            ]
          },
          "metadata": {},
          "execution_count": 32
        }
      ]
    },
    {
      "cell_type": "code",
      "source": [
        "# make predictions\n",
        "trainPredict = model.predict(trainX)\n",
        "testPredict = model.predict(testX)\n",
        "# invert predictions\n",
        "trainPredict = scaler.inverse_transform(trainPredict)\n",
        "trainY = scaler.inverse_transform([trainY])\n",
        "testPredict = scaler.inverse_transform(testPredict)\n",
        "testY = scaler.inverse_transform([testY])\n",
        "# calculate root mean squared error\n",
        "trainScore = np.sqrt(mean_squared_error(trainY[0], trainPredict[:,0]))\n",
        "print('Train Score: %.2f RMSE' % (trainScore))\n",
        "testScore = np.sqrt(mean_squared_error(testY[0], testPredict[:,0]))\n",
        "print('Test Score: %.2f RMSE' % (testScore))"
      ],
      "metadata": {
        "colab": {
          "base_uri": "https://localhost:8080/"
        },
        "id": "d9iUAqeVuwa5",
        "outputId": "ec42e9ca-4f38-4dcb-f070-95f654d2036c"
      },
      "execution_count": 33,
      "outputs": [
        {
          "output_type": "stream",
          "name": "stdout",
          "text": [
            "22/22 [==============================] - 0s 1ms/step\n",
            "11/11 [==============================] - 0s 1ms/step\n",
            "Train Score: 0.81 RMSE\n",
            "Test Score: 1.45 RMSE\n"
          ]
        }
      ]
    },
    {
      "cell_type": "code",
      "source": [
        "# shift train predictions for plotting\n",
        "trainPredictPlot = np.empty_like(dataset)\n",
        "trainPredictPlot[:, :] = np.nan\n",
        "trainPredictPlot[look_back:len(trainPredict)+look_back, :] = trainPredict\n",
        "# shift test predictions for plotting\n",
        "testPredictPlot = np.empty_like(dataset)\n",
        "testPredictPlot[:, :] = np.nan\n",
        "testPredictPlot[len(trainPredict)+(look_back*2)+1:len(dataset)-1, :] = testPredict\n",
        "# plot baseline and predictions\n",
        "plt.plot(scaler.inverse_transform(dataset))\n",
        "plt.plot(trainPredictPlot)\n",
        "plt.plot(testPredictPlot)\n",
        "plt.show()"
      ],
      "metadata": {
        "colab": {
          "base_uri": "https://localhost:8080/",
          "height": 265
        },
        "id": "n75s3vOZvfcG",
        "outputId": "6a03e561-7bed-4442-d0ac-71d71b302af6"
      },
      "execution_count": 34,
      "outputs": [
        {
          "output_type": "display_data",
          "data": {
            "text/plain": [
              "<Figure size 432x288 with 1 Axes>"
            ],
            "image/png": "[encoded data removed]"
          },
          "metadata": {
            "needs_background": "light"
          }
        }
      ]
    }
  ]
}